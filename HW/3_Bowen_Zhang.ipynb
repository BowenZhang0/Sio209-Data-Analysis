{
 "cells": [
  {
   "cell_type": "markdown",
   "metadata": {},
   "source": [
    "## A. Python basics, strings, printing (Shaw Exercises 1–10)"
   ]
  },
  {
   "cell_type": "markdown",
   "metadata": {},
   "source": [
    "### 1"
   ]
  },
  {
   "cell_type": "markdown",
   "metadata": {},
   "source": [
    "zhangbobuntekiMacBook-Air:Python Files zhangbowen$ python ex1.py\n",
    "Hello World!\n",
    "Hello Again\n",
    "I like typing this.\n",
    "This is fun.\n",
    "Yay! Printing.\n",
    "I'd much rather you 'not'.\n",
    "I \"said\" do not touch this.\n",
    "zhangbobuntekiMacBook-Air:Python Files zhangbowen$ "
   ]
  },
  {
   "cell_type": "markdown",
   "metadata": {},
   "source": [
    "### 2"
   ]
  },
  {
   "cell_type": "code",
   "execution_count": 1,
   "metadata": {},
   "outputs": [
    {
     "name": "stdout",
     "output_type": "stream",
     "text": [
      "I can print as many \" \" as I want\n",
      "I can print as many ... as I want\n"
     ]
    }
   ],
   "source": [
    "# print string \n",
    "print('I can print as many \" \" as I want')\n",
    "print('I can print as many ... as I want')"
   ]
  },
  {
   "cell_type": "markdown",
   "metadata": {},
   "source": [
    "### 3 4 "
   ]
  },
  {
   "cell_type": "code",
   "execution_count": 2,
   "metadata": {},
   "outputs": [
    {
     "ename": "TypeError",
     "evalue": "'tuple' object does not support item assignment",
     "output_type": "error",
     "traceback": [
      "\u001b[0;31m---------------------------------------------------------------------------\u001b[0m",
      "\u001b[0;31mTypeError\u001b[0m                                 Traceback (most recent call last)",
      "\u001b[0;32m<ipython-input-2-ea93cea494b7>\u001b[0m in \u001b[0;36m<module>\u001b[0;34m()\u001b[0m\n\u001b[1;32m      2\u001b[0m \u001b[0;31m# Elements in Tuple can not be changed\u001b[0m\u001b[0;34m\u001b[0m\u001b[0;34m\u001b[0m\u001b[0m\n\u001b[1;32m      3\u001b[0m \u001b[0ma\u001b[0m \u001b[0;34m=\u001b[0m \u001b[0;34m(\u001b[0m\u001b[0;36m2\u001b[0m\u001b[0;34m,\u001b[0m\u001b[0;36m3\u001b[0m\u001b[0;34m)\u001b[0m\u001b[0;34m\u001b[0m\u001b[0m\n\u001b[0;32m----> 4\u001b[0;31m \u001b[0ma\u001b[0m\u001b[0;34m[\u001b[0m\u001b[0;36m0\u001b[0m\u001b[0;34m]\u001b[0m \u001b[0;34m=\u001b[0m \u001b[0;36m1\u001b[0m\u001b[0;34m\u001b[0m\u001b[0m\n\u001b[0m",
      "\u001b[0;31mTypeError\u001b[0m: 'tuple' object does not support item assignment"
     ]
    }
   ],
   "source": [
    "#Error_1\n",
    "# Elements in Tuple can not be changed \n",
    "a = (2,3)\n",
    "a[0] = 1"
   ]
  },
  {
   "cell_type": "code",
   "execution_count": 3,
   "metadata": {},
   "outputs": [
    {
     "ename": "IndentationError",
     "evalue": "expected an indented block (<ipython-input-3-66b526441da4>, line 4)",
     "output_type": "error",
     "traceback": [
      "\u001b[0;36m  File \u001b[0;32m\"<ipython-input-3-66b526441da4>\"\u001b[0;36m, line \u001b[0;32m4\u001b[0m\n\u001b[0;31m    print(i)\u001b[0m\n\u001b[0m        ^\u001b[0m\n\u001b[0;31mIndentationError\u001b[0m\u001b[0;31m:\u001b[0m expected an indented block\n"
     ]
    }
   ],
   "source": [
    "#Error_2\n",
    "# statement in loop should be indented in order to work \n",
    "for i in range(2):\n",
    "print(i)"
   ]
  },
  {
   "cell_type": "code",
   "execution_count": 4,
   "metadata": {},
   "outputs": [
    {
     "ename": "TypeError",
     "evalue": "'float' object cannot be interpreted as an integer",
     "output_type": "error",
     "traceback": [
      "\u001b[0;31m---------------------------------------------------------------------------\u001b[0m",
      "\u001b[0;31mTypeError\u001b[0m                                 Traceback (most recent call last)",
      "\u001b[0;32m<ipython-input-4-5c0c93a27175>\u001b[0m in \u001b[0;36m<module>\u001b[0;34m()\u001b[0m\n\u001b[1;32m      2\u001b[0m \u001b[0;31m#2.0 is float type, should be int type\u001b[0m\u001b[0;34m\u001b[0m\u001b[0;34m\u001b[0m\u001b[0m\n\u001b[1;32m      3\u001b[0m \u001b[0;32mimport\u001b[0m \u001b[0mnumpy\u001b[0m \u001b[0;32mas\u001b[0m \u001b[0mnp\u001b[0m\u001b[0;34m\u001b[0m\u001b[0m\n\u001b[0;32m----> 4\u001b[0;31m \u001b[0mnp\u001b[0m\u001b[0;34m.\u001b[0m\u001b[0mzeros\u001b[0m\u001b[0;34m(\u001b[0m\u001b[0;34m(\u001b[0m\u001b[0;36m2.0\u001b[0m\u001b[0;34m,\u001b[0m\u001b[0;36m3\u001b[0m\u001b[0;34m)\u001b[0m\u001b[0;34m)\u001b[0m\u001b[0;34m\u001b[0m\u001b[0m\n\u001b[0m",
      "\u001b[0;31mTypeError\u001b[0m: 'float' object cannot be interpreted as an integer"
     ]
    }
   ],
   "source": [
    "#Error_3\n",
    "#2.0 is float type, should be int type\n",
    "import numpy as np\n",
    "np.zeros((2.0,3))"
   ]
  },
  {
   "cell_type": "code",
   "execution_count": 5,
   "metadata": {},
   "outputs": [
    {
     "ename": "SyntaxError",
     "evalue": "invalid syntax (<ipython-input-5-b0848fbee84f>, line 3)",
     "output_type": "error",
     "traceback": [
      "\u001b[0;36m  File \u001b[0;32m\"<ipython-input-5-b0848fbee84f>\"\u001b[0;36m, line \u001b[0;32m3\u001b[0m\n\u001b[0;31m    for i in range(2)\u001b[0m\n\u001b[0m                     ^\u001b[0m\n\u001b[0;31mSyntaxError\u001b[0m\u001b[0;31m:\u001b[0m invalid syntax\n"
     ]
    }
   ],
   "source": [
    "#Error_4\n",
    "# forget \":\"\n",
    "for i in range(2)\n",
    "    print(i)"
   ]
  },
  {
   "cell_type": "code",
   "execution_count": 6,
   "metadata": {},
   "outputs": [
    {
     "ename": "TypeError",
     "evalue": "must be str, not int",
     "output_type": "error",
     "traceback": [
      "\u001b[0;31m---------------------------------------------------------------------------\u001b[0m",
      "\u001b[0;31mTypeError\u001b[0m                                 Traceback (most recent call last)",
      "\u001b[0;32m<ipython-input-6-460821c2e797>\u001b[0m in \u001b[0;36m<module>\u001b[0;34m()\u001b[0m\n\u001b[1;32m      1\u001b[0m \u001b[0;31m#Error_5\u001b[0m\u001b[0;34m\u001b[0m\u001b[0;34m\u001b[0m\u001b[0m\n\u001b[1;32m      2\u001b[0m \u001b[0;31m# data type should be the same\u001b[0m\u001b[0;34m\u001b[0m\u001b[0;34m\u001b[0m\u001b[0m\n\u001b[0;32m----> 3\u001b[0;31m \u001b[0ma\u001b[0m\u001b[0;34m=\u001b[0m \u001b[0;34m'abc'\u001b[0m \u001b[0;34m+\u001b[0m \u001b[0;36m4\u001b[0m\u001b[0;34m\u001b[0m\u001b[0m\n\u001b[0m",
      "\u001b[0;31mTypeError\u001b[0m: must be str, not int"
     ]
    }
   ],
   "source": [
    "#Error_5\n",
    "# data type should be the same\n",
    "a= 'abc' + 4"
   ]
  },
  {
   "cell_type": "markdown",
   "metadata": {},
   "source": [
    "### 5 6 7"
   ]
  },
  {
   "cell_type": "code",
   "execution_count": 7,
   "metadata": {},
   "outputs": [
    {
     "name": "stdout",
     "output_type": "stream",
     "text": [
      "0.75 2.25 0.75 12 0.5\n"
     ]
    }
   ],
   "source": [
    "a = 3/2**2\n",
    "b = (3/2)**2\n",
    "c = 3/(2**2)\n",
    "d = 3*2**2\n",
    "e = (1+2)/(2+4)\n",
    "print(a,b,c,d,e)"
   ]
  },
  {
   "cell_type": "code",
   "execution_count": 8,
   "metadata": {},
   "outputs": [
    {
     "name": "stdout",
     "output_type": "stream",
     "text": [
      "spam s m 1 2 0.5\n"
     ]
    }
   ],
   "source": [
    "a = 'spam'\n",
    "b = a[0]\n",
    "c = a[-1]\n",
    "d = 1\n",
    "e = d+1\n",
    "f = d/e\n",
    "print(a,b,c,d,e,f)"
   ]
  },
  {
   "cell_type": "markdown",
   "metadata": {},
   "source": [
    "### 8"
   ]
  },
  {
   "cell_type": "code",
   "execution_count": 9,
   "metadata": {},
   "outputs": [
    {
     "name": "stdout",
     "output_type": "stream",
     "text": [
      "print a world -- 'spam'\n",
      " 1 divided by 2 is 0.5\n",
      " print a world -- spam\n",
      " 1 divided by 2 is 0.5\n",
      "\n"
     ]
    }
   ],
   "source": [
    "print('print a world -- %r\\n'%a,\n",
    "      '%r divided by %r is %r\\n'%(d,e,f),\n",
    "      'print a world -- %s\\n'%a,\n",
    "      '%s divided by %s is %s\\n'%(d,e,f))"
   ]
  },
  {
   "cell_type": "markdown",
   "metadata": {},
   "source": [
    "### 9"
   ]
  },
  {
   "cell_type": "code",
   "execution_count": 10,
   "metadata": {},
   "outputs": [
    {
     "data": {
      "text/plain": [
       "7"
      ]
     },
     "execution_count": 10,
     "metadata": {},
     "output_type": "execute_result"
    }
   ],
   "source": [
    "g = 'mmm'\n",
    "h = a + g\n",
    "len(h)"
   ]
  },
  {
   "cell_type": "markdown",
   "metadata": {},
   "source": [
    "### 10"
   ]
  },
  {
   "cell_type": "code",
   "execution_count": 11,
   "metadata": {},
   "outputs": [
    {
     "name": "stdout",
     "output_type": "stream",
     "text": [
      "spam \t mmm \n",
      " spammmm\n"
     ]
    }
   ],
   "source": [
    "print(a,'\\t',g,'\\n',h)"
   ]
  },
  {
   "cell_type": "markdown",
   "metadata": {},
   "source": [
    "### 11"
   ]
  },
  {
   "cell_type": "code",
   "execution_count": 12,
   "metadata": {},
   "outputs": [
    {
     "name": "stdout",
     "output_type": "stream",
     "text": [
      "spam add mmm become spammmm\n"
     ]
    }
   ],
   "source": [
    "print(\"{} add {} become {}\".format(a,g,h))"
   ]
  },
  {
   "cell_type": "markdown",
   "metadata": {},
   "source": [
    "### 12"
   ]
  },
  {
   "cell_type": "code",
   "execution_count": 13,
   "metadata": {},
   "outputs": [
    {
     "name": "stdout",
     "output_type": "stream",
     "text": [
      "This is the 1st line\n",
      "This is the 2nd line\n",
      "This is the 3rd line\n",
      "This is the 4th line\n",
      "This is the 5th line\n",
      "\n",
      "\n",
      "This is the 1st line\n",
      "This is the 2nd line\n",
      "This is the 3rd line\n",
      "This is the 4th line\n",
      "This is the 5th line\n",
      "        \n"
     ]
    }
   ],
   "source": [
    "print('This is the 1st line\\nThis is the 2nd line\\nThis is the 3rd line\\nThis is the 4th line\\nThis is the 5th line\\n')\n",
    "print('''\n",
    "This is the 1st line\n",
    "This is the 2nd line\n",
    "This is the 3rd line\n",
    "This is the 4th line\n",
    "This is the 5th line\n",
    "        ''')"
   ]
  },
  {
   "cell_type": "markdown",
   "metadata": {},
   "source": [
    "### 13"
   ]
  },
  {
   "cell_type": "code",
   "execution_count": 14,
   "metadata": {},
   "outputs": [
    {
     "name": "stdout",
     "output_type": "stream",
     "text": [
      "This is \ta \n",
      "test \" ' \\ \n"
     ]
    }
   ],
   "source": [
    "print('This is \\ta \\ntest \\\" \\' \\\\ ')"
   ]
  },
  {
   "cell_type": "markdown",
   "metadata": {},
   "source": [
    "## B. Taking input, reading and writing files, functions (Shaw Exercises 11-26)"
   ]
  },
  {
   "cell_type": "markdown",
   "metadata": {},
   "source": [
    "#### 1. Write some code, without using functions, that calculates the average of 5 numbers."
   ]
  },
  {
   "cell_type": "markdown",
   "metadata": {},
   "source": [
    "### input()\n",
    "import numpy as np\n",
    "\n",
    "a = np.zeros((5))\n",
    "\n",
    "for i in range (5):\n",
    "\n",
    "    a[i] = input()\n",
    "    \n",
    "print(np.average(a))"
   ]
  },
  {
   "cell_type": "markdown",
   "metadata": {},
   "source": [
    "### argv\n",
    "\n",
    "from sys import argv\n",
    "\n",
    "v1 = float(argv[1])\n",
    "\n",
    "v2 = float(argv[2])\n",
    "\n",
    "v3 = float(argv[3])\n",
    "\n",
    "v4 = float(argv[4])\n",
    "\n",
    "v5 = float(argv[5])\n",
    "\n",
    "v = (v5+v1+v2+v3+v4)/5\n",
    "\n",
    "print(v)"
   ]
  },
  {
   "cell_type": "code",
   "execution_count": 15,
   "metadata": {},
   "outputs": [],
   "source": [
    "a = 1\n",
    "b = 2\n",
    "c = 3\n",
    "d = 4\n",
    "e = 5"
   ]
  },
  {
   "cell_type": "code",
   "execution_count": 16,
   "metadata": {},
   "outputs": [],
   "source": [
    "f = (a +b+c+d+e)/5"
   ]
  },
  {
   "cell_type": "markdown",
   "metadata": {},
   "source": [
    "#### 2. Using functions, write some code that changes two strings"
   ]
  },
  {
   "cell_type": "code",
   "execution_count": 17,
   "metadata": {},
   "outputs": [
    {
     "name": "stdout",
     "output_type": "stream",
     "text": [
      "-f /users/zhangbowen/library/jupyter/runtime/kernel-2a672b18-96e7-4cea-a1f2-2d363a2d2c0f.json\n",
      "-F /USERS/ZHANGBOWEN/LIBRARY/JUPYTER/RUNTIME/KERNEL-2A672B18-96E7-4CEA-A1F2-2D363A2D2C0F.JSON\n",
      "- f / n\n",
      "2 90\n",
      "-f/Users/zhangbowen/Library/Jupyter/runtime/kernel-2a672b18-96e7-4cea-a1f2-2d363a2d2c0f.json\n"
     ]
    }
   ],
   "source": [
    "from sys import argv\n",
    "def aver():\n",
    "    a = argv[1]\n",
    "    b = argv[2]\n",
    "    print(a.capitalize(), b.capitalize() )\n",
    "    print(a.upper(),b.upper())\n",
    "    print(a[0],a[-1],b[0],b[-1])\n",
    "    print(len(a),len(b))\n",
    "    print(a+b)\n",
    "aver()"
   ]
  },
  {
   "cell_type": "code",
   "execution_count": 18,
   "metadata": {},
   "outputs": [],
   "source": [
    "def aver(a,b):\n",
    "    print(a.capitalize(), b.capitalize() )\n",
    "    print(a.upper(),b.upper())\n",
    "    print(a[0],a[-1],b[0],b[-1])\n",
    "    print(len(a),len(b))\n",
    "    print(a+b)\n",
    "    "
   ]
  },
  {
   "cell_type": "code",
   "execution_count": 19,
   "metadata": {},
   "outputs": [
    {
     "name": "stdout",
     "output_type": "stream",
     "text": [
      "Abc Def\n",
      "ABC DEF\n",
      "a c d f\n",
      "3 3\n",
      "abcdef\n"
     ]
    }
   ],
   "source": [
    "a = 'abc'\n",
    "b = 'def'\n",
    "aver(a,b)"
   ]
  },
  {
   "cell_type": "markdown",
   "metadata": {},
   "source": [
    "### 3. Using a text editor, create a comma-separated values file with 5 columns and 5 rows. Save it in the same directory as your Jupyter notebook. In the Jupyter notebook, read and print the file in different ways"
   ]
  },
  {
   "cell_type": "markdown",
   "metadata": {},
   "source": [
    "#### Read your .csv file using read(), readline(), or readlines()"
   ]
  },
  {
   "cell_type": "code",
   "execution_count": 20,
   "metadata": {},
   "outputs": [],
   "source": [
    "#3.\n",
    "file = 'hw3.csv'\n",
    "csv = open(file)"
   ]
  },
  {
   "cell_type": "code",
   "execution_count": 21,
   "metadata": {},
   "outputs": [
    {
     "data": {
      "text/plain": [
       "'10000,N,Mac,0,0\\n13001,Y,Mac,1,2\\n60985,Y,Windows,0,1\\n43309,Y,Mac,3,3\\n89785,Y,Windows,2,2\\n'"
      ]
     },
     "execution_count": 21,
     "metadata": {},
     "output_type": "execute_result"
    }
   ],
   "source": [
    "csv.read()"
   ]
  },
  {
   "cell_type": "code",
   "execution_count": 22,
   "metadata": {},
   "outputs": [
    {
     "data": {
      "text/plain": [
       "'10000,N,Mac,0,0\\n'"
      ]
     },
     "execution_count": 22,
     "metadata": {},
     "output_type": "execute_result"
    }
   ],
   "source": [
    "csv = open(file)\n",
    "csv.readline()"
   ]
  },
  {
   "cell_type": "code",
   "execution_count": 23,
   "metadata": {},
   "outputs": [],
   "source": [
    "csv.close()"
   ]
  },
  {
   "cell_type": "code",
   "execution_count": 24,
   "metadata": {},
   "outputs": [
    {
     "data": {
      "text/plain": [
       "['10000,N,Mac,0,0\\n',\n",
       " '13001,Y,Mac,1,2\\n',\n",
       " '60985,Y,Windows,0,1\\n',\n",
       " '43309,Y,Mac,3,3\\n',\n",
       " '89785,Y,Windows,2,2\\n']"
      ]
     },
     "execution_count": 24,
     "metadata": {},
     "output_type": "execute_result"
    }
   ],
   "source": [
    "csv = open(file)\n",
    "csv.readlines()"
   ]
  },
  {
   "cell_type": "markdown",
   "metadata": {},
   "source": [
    "#### Do the same but use a with block and a different one of read(), readline(), or readlines()."
   ]
  },
  {
   "cell_type": "code",
   "execution_count": 25,
   "metadata": {},
   "outputs": [
    {
     "data": {
      "text/plain": [
       "'10000,N,Mac,0,0\\n13001,Y,Mac,1,2\\n60985,Y,Windows,0,1\\n43309,Y,Mac,3,3\\n89785,Y,Windows,2,2\\n'"
      ]
     },
     "execution_count": 25,
     "metadata": {},
     "output_type": "execute_result"
    }
   ],
   "source": [
    "with open(file, 'r') as f:\n",
    "    lines = f.read()\n",
    "lines"
   ]
  },
  {
   "cell_type": "code",
   "execution_count": 26,
   "metadata": {},
   "outputs": [
    {
     "data": {
      "text/plain": [
       "'10000,N,Mac,0,0\\n'"
      ]
     },
     "execution_count": 26,
     "metadata": {},
     "output_type": "execute_result"
    }
   ],
   "source": [
    "with open(file, 'r') as f:\n",
    "    line = f.readline()\n",
    "line"
   ]
  },
  {
   "cell_type": "code",
   "execution_count": 27,
   "metadata": {},
   "outputs": [
    {
     "data": {
      "text/plain": [
       "['10000,N,Mac,0,0\\n',\n",
       " '13001,Y,Mac,1,2\\n',\n",
       " '60985,Y,Windows,0,1\\n',\n",
       " '43309,Y,Mac,3,3\\n',\n",
       " '89785,Y,Windows,2,2\\n']"
      ]
     },
     "execution_count": 27,
     "metadata": {},
     "output_type": "execute_result"
    }
   ],
   "source": [
    "with open(file, 'r') as f:\n",
    "    lines = f.readlines()\n",
    "lines"
   ]
  },
  {
   "cell_type": "code",
   "execution_count": 28,
   "metadata": {},
   "outputs": [
    {
     "data": {
      "text/plain": [
       "'\\n10000,N,Mac,0,0\\n13001,Y,Mac,1,2\\n60985,Y,Windows,0,1\\n43309,Y,Mac,3,3\\n89785,Y,Windows,2,2\\n'"
      ]
     },
     "execution_count": 28,
     "metadata": {},
     "output_type": "execute_result"
    }
   ],
   "source": [
    "'''\n",
    "10000,N,Mac,0,0\n",
    "13001,Y,Mac,1,2\n",
    "60985,Y,Windows,0,1\n",
    "43309,Y,Mac,3,3\n",
    "89785,Y,Windows,2,2\n",
    "'''"
   ]
  },
  {
   "cell_type": "markdown",
   "metadata": {},
   "source": [
    "#### Using either of the two above methods, then change one row of data, and write your csv data to a new file."
   ]
  },
  {
   "cell_type": "code",
   "execution_count": 29,
   "metadata": {},
   "outputs": [],
   "source": [
    "outfile = 'hw3.csv'\n",
    "a = '10, a, c, d, e\\n'\n",
    "lines[0] = a\n",
    "with open('hw3_new.csv', 'w') as target:\n",
    "    for i in range(5):\n",
    "        target.write(lines[i])\n",
    "    "
   ]
  },
  {
   "cell_type": "markdown",
   "metadata": {},
   "source": [
    "#### Read your .csv file using Pandas and display the resulting DataFrame.\n"
   ]
  },
  {
   "cell_type": "code",
   "execution_count": 30,
   "metadata": {},
   "outputs": [],
   "source": [
    "import pandas as pd\n",
    "df = pd.read_csv('hw3_new.csv', header=None)"
   ]
  },
  {
   "cell_type": "code",
   "execution_count": 31,
   "metadata": {},
   "outputs": [
    {
     "data": {
      "text/html": [
       "<div>\n",
       "<style scoped>\n",
       "    .dataframe tbody tr th:only-of-type {\n",
       "        vertical-align: middle;\n",
       "    }\n",
       "\n",
       "    .dataframe tbody tr th {\n",
       "        vertical-align: top;\n",
       "    }\n",
       "\n",
       "    .dataframe thead th {\n",
       "        text-align: right;\n",
       "    }\n",
       "</style>\n",
       "<table border=\"1\" class=\"dataframe\">\n",
       "  <thead>\n",
       "    <tr style=\"text-align: right;\">\n",
       "      <th></th>\n",
       "      <th>0</th>\n",
       "      <th>1</th>\n",
       "      <th>2</th>\n",
       "      <th>3</th>\n",
       "      <th>4</th>\n",
       "    </tr>\n",
       "  </thead>\n",
       "  <tbody>\n",
       "    <tr>\n",
       "      <th>0</th>\n",
       "      <td>10</td>\n",
       "      <td>a</td>\n",
       "      <td>c</td>\n",
       "      <td>d</td>\n",
       "      <td>e</td>\n",
       "    </tr>\n",
       "    <tr>\n",
       "      <th>1</th>\n",
       "      <td>13001</td>\n",
       "      <td>Y</td>\n",
       "      <td>Mac</td>\n",
       "      <td>1</td>\n",
       "      <td>2</td>\n",
       "    </tr>\n",
       "    <tr>\n",
       "      <th>2</th>\n",
       "      <td>60985</td>\n",
       "      <td>Y</td>\n",
       "      <td>Windows</td>\n",
       "      <td>0</td>\n",
       "      <td>1</td>\n",
       "    </tr>\n",
       "    <tr>\n",
       "      <th>3</th>\n",
       "      <td>43309</td>\n",
       "      <td>Y</td>\n",
       "      <td>Mac</td>\n",
       "      <td>3</td>\n",
       "      <td>3</td>\n",
       "    </tr>\n",
       "    <tr>\n",
       "      <th>4</th>\n",
       "      <td>89785</td>\n",
       "      <td>Y</td>\n",
       "      <td>Windows</td>\n",
       "      <td>2</td>\n",
       "      <td>2</td>\n",
       "    </tr>\n",
       "  </tbody>\n",
       "</table>\n",
       "</div>"
      ],
      "text/plain": [
       "       0   1        2   3   4\n",
       "0     10   a        c   d   e\n",
       "1  13001   Y      Mac   1   2\n",
       "2  60985   Y  Windows   0   1\n",
       "3  43309   Y      Mac   3   3\n",
       "4  89785   Y  Windows   2   2"
      ]
     },
     "execution_count": 31,
     "metadata": {},
     "output_type": "execute_result"
    }
   ],
   "source": [
    "df"
   ]
  },
  {
   "cell_type": "markdown",
   "metadata": {},
   "source": [
    "#### Save your DataFrame to a new file using Pandas."
   ]
  },
  {
   "cell_type": "code",
   "execution_count": 32,
   "metadata": {},
   "outputs": [],
   "source": [
    "df.to_csv('hw3_pandas.csv')"
   ]
  },
  {
   "cell_type": "code",
   "execution_count": null,
   "metadata": {},
   "outputs": [],
   "source": []
  }
 ],
 "metadata": {
  "kernelspec": {
   "display_name": "Python 3",
   "language": "python",
   "name": "python3"
  },
  "language_info": {
   "codemirror_mode": {
    "name": "ipython",
    "version": 3
   },
   "file_extension": ".py",
   "mimetype": "text/x-python",
   "name": "python",
   "nbconvert_exporter": "python",
   "pygments_lexer": "ipython3",
   "version": "3.6.4"
  }
 },
 "nbformat": 4,
 "nbformat_minor": 2
}
