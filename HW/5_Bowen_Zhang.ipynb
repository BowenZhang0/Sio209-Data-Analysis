{
 "cells": [
  {
   "cell_type": "markdown",
   "metadata": {},
   "source": [
    "### A. Regular expressions in the command line\n"
   ]
  },
  {
   "cell_type": "markdown",
   "metadata": {},
   "source": [
    "``` bash \n",
    "zhangbobuntekiMacBook-Air:data zhangbowen$ \n",
    "egrep -E \"11/10/15|Date\" scripps_pier_20151110.csv \n",
    "\n",
    "Date,chl (ug/L),pres (dbar),sal (PSU),temp (C)\n",
    "11/10/15 1:42,22.307,3.712,33.199,19.95\n",
    "11/10/15 1:35,22.311,3.588,33.201,19.94\n",
    "11/10/15 1:29,22.305,3.541,33.2,19.95\n",
    "11/10/15 1:23,22.323,3.463,33.2,19.95\n",
    "11/10/15 1:17,22.316,3.471,33.199,19.95\n",
    "11/10/15 1:11,22.315,3.476,33.198,19.95\n",
    "11/10/15 1:05,22.31,3.448,33.199,19.96\n",
    "11/10/15 0:59,22.316,3.377,33.2,19.99\n",
    "11/10/15 0:53,22.311,3.338,33.2,20\n",
    "11/10/15 0:47,22.322,3.325,33.201,20.01\n",
    "11/10/15 0:41,22.311,3.344,33.2,20.04\n",
    "11/10/15 0:35,22.311,3.217,33.201,20.05\n",
    "11/10/15 0:29,22.307,3.265,33.199,20.08\n",
    "11/10/15 0:23,22.32,3.22,33.197,20.09\n",
    "11/10/15 0:17,22.322,3.211,33.199,20.08\n",
    "11/10/15 0:11,22.323,3.134,33.197,20.09\n",
    "11/10/15 0:05,22.315,3.018,33.197,20.09\n",
    "```"
   ]
  },
  {
   "cell_type": "markdown",
   "metadata": {},
   "source": [
    "```bash\n",
    "zhangbobuntekiMacBook-Air:data zhangbowen$ grep  \".*,3\\.\" scripps_pier_20151110.csv \n",
    "11/10/15 1:42,22.307,3.712,33.199,19.95\n",
    "11/10/15 1:35,22.311,3.588,33.201,19.94\n",
    "11/10/15 1:29,22.305,3.541,33.2,19.95\n",
    "11/10/15 1:23,22.323,3.463,33.2,19.95\n",
    "11/10/15 1:17,22.316,3.471,33.199,19.95\n",
    "11/10/15 1:11,22.315,3.476,33.198,19.95\n",
    "11/10/15 1:05,22.31,3.448,33.199,19.96\n",
    "11/10/15 0:59,22.316,3.377,33.2,19.99\n",
    "11/10/15 0:53,22.311,3.338,33.2,20\n",
    "11/10/15 0:47,22.322,3.325,33.201,20.01\n",
    "11/10/15 0:41,22.311,3.344,33.2,20.04\n",
    "11/10/15 0:35,22.311,3.217,33.201,20.05\n",
    "11/10/15 0:29,22.307,3.265,33.199,20.08\n",
    "11/10/15 0:23,22.32,3.22,33.197,20.09\n",
    "11/10/15 0:17,22.322,3.211,33.199,20.08\n",
    "11/10/15 0:11,22.323,3.134,33.197,20.09\n",
    "11/10/15 0:05,22.315,3.018,33.197,20.09\n",
    "11/9/15 23:59,22.319,3.031,33.198,20.08\n",
    "11/9/15 23:53,22.327,3.118,33.199,20.11\n",
    "11/9/15 23:41,22.328,3.014,33.198,20.16\n",
    "11/9/15 23:29,22.336,3.013,33.194,20.17\n",
    "11/9/15 23:23,22.337,3.011,33.194,20.16\n",
    "11/9/15 20:17,22.402,3.061,33.206,20.07\n",
    "11/9/15 20:05,22.409,3.065,33.204,20.05\n",
    "11/9/15 19:59,22.412,3.159,33.203,20.04\n",
    "11/9/15 19:53,22.418,3.039,33.206,20.04\n",
    "11/9/15 19:47,22.422,3.163,33.204,20.04\n",
    "11/9/15 19:41,22.423,3.193,33.206,20.03\n",
    "11/9/15 19:34,22.423,3.204,33.202,20.05\n",
    "11/9/15 19:28,22.413,3.254,33.2,20.02\n",
    "11/9/15 19:22,22.418,3.316,33.202,19.96\n",
    "11/9/15 19:16,22.41,3.209,33.2,19.96\n",
    "11/9/15 19:10,22.426,3.328,33.203,19.95\n",
    "```"
   ]
  },
  {
   "cell_type": "markdown",
   "metadata": {},
   "source": [
    "```bash\n",
    "zhangbobuntekiMacBook-Air:data zhangbowen$ sed 's/\\/15/\\/2015/g' scripps_pier_20151110.csv \n",
    "```"
   ]
  },
  {
   "cell_type": "markdown",
   "metadata": {},
   "source": [
    "### B. Regular expressions in Python\n"
   ]
  },
  {
   "cell_type": "code",
   "execution_count": 1,
   "metadata": {},
   "outputs": [],
   "source": [
    "import re"
   ]
  },
  {
   "cell_type": "code",
   "execution_count": 2,
   "metadata": {},
   "outputs": [],
   "source": [
    "s = 'The quick brown fox jumps over the lazy dog'"
   ]
  },
  {
   "cell_type": "code",
   "execution_count": 3,
   "metadata": {},
   "outputs": [
    {
     "data": {
      "text/plain": [
       "<_sre.SRE_Match object; span=(0, 3), match='The'>"
      ]
     },
     "execution_count": 3,
     "metadata": {},
     "output_type": "execute_result"
    }
   ],
   "source": [
    "re.match('The', s)"
   ]
  },
  {
   "cell_type": "code",
   "execution_count": 4,
   "metadata": {},
   "outputs": [
    {
     "data": {
      "text/plain": [
       "'r'"
      ]
     },
     "execution_count": 4,
     "metadata": {},
     "output_type": "execute_result"
    }
   ],
   "source": [
    "a = re.search(r'[a-z]o', s).group()\n",
    "a = a[0]\n",
    "a"
   ]
  },
  {
   "cell_type": "code",
   "execution_count": 5,
   "metadata": {},
   "outputs": [
    {
     "data": {
      "text/plain": [
       "['r', 'f', 'd']"
      ]
     },
     "execution_count": 5,
     "metadata": {},
     "output_type": "execute_result"
    }
   ],
   "source": [
    "regex = re.compile(r'[a-z][o]')\n",
    "words = regex.findall(s)\n",
    "words  = [a[0] for a in words]\n",
    "words"
   ]
  },
  {
   "cell_type": "code",
   "execution_count": 6,
   "metadata": {},
   "outputs": [
    {
     "data": {
      "text/plain": [
       "'The quick brown fox jumps over the lazy cat'"
      ]
     },
     "execution_count": 6,
     "metadata": {},
     "output_type": "execute_result"
    }
   ],
   "source": [
    "ss = re.sub(r'dog', 'cat', s)\n",
    "ss"
   ]
  },
  {
   "cell_type": "markdown",
   "metadata": {},
   "source": [
    "### C. Numpy basics"
   ]
  },
  {
   "cell_type": "code",
   "execution_count": 7,
   "metadata": {},
   "outputs": [],
   "source": [
    "import numpy as np "
   ]
  },
  {
   "cell_type": "code",
   "execution_count": 8,
   "metadata": {},
   "outputs": [
    {
     "data": {
      "text/plain": [
       "array([[6.00275149, 6.82682342, 0.61701507, 7.62964224, 5.65680073,\n",
       "        1.30569418, 4.06618868, 8.81213881, 8.17746633, 9.71632309]])"
      ]
     },
     "execution_count": 8,
     "metadata": {},
     "output_type": "execute_result"
    }
   ],
   "source": [
    "a = 10*np.random.rand(1,10)\n",
    "a"
   ]
  },
  {
   "cell_type": "code",
   "execution_count": 9,
   "metadata": {},
   "outputs": [
    {
     "data": {
      "text/plain": [
       "[0, 1, 2, 3, 4, 5, 6, 7, 8, 9]"
      ]
     },
     "execution_count": 9,
     "metadata": {},
     "output_type": "execute_result"
    }
   ],
   "source": [
    "b = [i for i in range(10)]\n",
    "b"
   ]
  },
  {
   "cell_type": "code",
   "execution_count": 10,
   "metadata": {},
   "outputs": [
    {
     "data": {
      "text/plain": [
       "array([6.00275149, 6.82682342, 7.62964224, 5.65680073, 8.81213881,\n",
       "       8.17746633, 9.71632309])"
      ]
     },
     "execution_count": 10,
     "metadata": {},
     "output_type": "execute_result"
    }
   ],
   "source": [
    "x = (a > b)\n",
    "a[x]"
   ]
  },
  {
   "cell_type": "markdown",
   "metadata": {},
   "source": [
    "### D. Pandas basics"
   ]
  },
  {
   "cell_type": "code",
   "execution_count": 11,
   "metadata": {},
   "outputs": [],
   "source": [
    "import pandas as pd"
   ]
  },
  {
   "cell_type": "code",
   "execution_count": 12,
   "metadata": {},
   "outputs": [],
   "source": [
    "df = pd.read_csv('../data/scripps_pier_20151110.csv', index_col=0, header=0)"
   ]
  },
  {
   "cell_type": "code",
   "execution_count": 13,
   "metadata": {},
   "outputs": [
    {
     "data": {
      "text/html": [
       "<div>\n",
       "<style scoped>\n",
       "    .dataframe tbody tr th:only-of-type {\n",
       "        vertical-align: middle;\n",
       "    }\n",
       "\n",
       "    .dataframe tbody tr th {\n",
       "        vertical-align: top;\n",
       "    }\n",
       "\n",
       "    .dataframe thead th {\n",
       "        text-align: right;\n",
       "    }\n",
       "</style>\n",
       "<table border=\"1\" class=\"dataframe\">\n",
       "  <thead>\n",
       "    <tr style=\"text-align: right;\">\n",
       "      <th></th>\n",
       "      <th>chl (ug/L)</th>\n",
       "      <th>pres (dbar)</th>\n",
       "      <th>sal (PSU)</th>\n",
       "      <th>temp (C)</th>\n",
       "    </tr>\n",
       "    <tr>\n",
       "      <th>Date</th>\n",
       "      <th></th>\n",
       "      <th></th>\n",
       "      <th></th>\n",
       "      <th></th>\n",
       "    </tr>\n",
       "  </thead>\n",
       "  <tbody>\n",
       "    <tr>\n",
       "      <th>11/10/15 1:42</th>\n",
       "      <td>22.307</td>\n",
       "      <td>3.712</td>\n",
       "      <td>33.199</td>\n",
       "      <td>19.95</td>\n",
       "    </tr>\n",
       "    <tr>\n",
       "      <th>11/10/15 1:35</th>\n",
       "      <td>22.311</td>\n",
       "      <td>3.588</td>\n",
       "      <td>33.201</td>\n",
       "      <td>19.94</td>\n",
       "    </tr>\n",
       "    <tr>\n",
       "      <th>11/10/15 1:29</th>\n",
       "      <td>22.305</td>\n",
       "      <td>3.541</td>\n",
       "      <td>33.200</td>\n",
       "      <td>19.95</td>\n",
       "    </tr>\n",
       "    <tr>\n",
       "      <th>11/10/15 1:23</th>\n",
       "      <td>22.323</td>\n",
       "      <td>3.463</td>\n",
       "      <td>33.200</td>\n",
       "      <td>19.95</td>\n",
       "    </tr>\n",
       "    <tr>\n",
       "      <th>11/10/15 1:17</th>\n",
       "      <td>22.316</td>\n",
       "      <td>3.471</td>\n",
       "      <td>33.199</td>\n",
       "      <td>19.95</td>\n",
       "    </tr>\n",
       "  </tbody>\n",
       "</table>\n",
       "</div>"
      ],
      "text/plain": [
       "               chl (ug/L)  pres (dbar)  sal (PSU)  temp (C)\n",
       "Date                                                       \n",
       "11/10/15 1:42      22.307        3.712     33.199     19.95\n",
       "11/10/15 1:35      22.311        3.588     33.201     19.94\n",
       "11/10/15 1:29      22.305        3.541     33.200     19.95\n",
       "11/10/15 1:23      22.323        3.463     33.200     19.95\n",
       "11/10/15 1:17      22.316        3.471     33.199     19.95"
      ]
     },
     "execution_count": 13,
     "metadata": {},
     "output_type": "execute_result"
    }
   ],
   "source": [
    "df.head()"
   ]
  },
  {
   "cell_type": "code",
   "execution_count": 14,
   "metadata": {},
   "outputs": [
    {
     "data": {
      "text/plain": [
       "['11/10/15 1:42',\n",
       " '11/10/15 1:35',\n",
       " '11/10/15 1:29',\n",
       " '11/10/15 1:23',\n",
       " '11/10/15 1:17',\n",
       " '11/10/15 1:11',\n",
       " '11/10/15 1:05',\n",
       " '11/10/15 0:59',\n",
       " '11/10/15 0:53',\n",
       " '11/10/15 0:47',\n",
       " '11/10/15 0:41',\n",
       " '11/10/15 0:35',\n",
       " '11/10/15 0:29',\n",
       " '11/10/15 0:23',\n",
       " '11/10/15 0:17',\n",
       " '11/10/15 0:11',\n",
       " '11/10/15 0:05']"
      ]
     },
     "execution_count": 14,
     "metadata": {},
     "output_type": "execute_result"
    }
   ],
   "source": [
    "date_1 = []\n",
    "for date in df.index:\n",
    "    if '11/10/15' in date:\n",
    "        date_1.append(date)\n",
    "date_1"
   ]
  },
  {
   "cell_type": "code",
   "execution_count": 15,
   "metadata": {},
   "outputs": [
    {
     "data": {
      "text/html": [
       "<div>\n",
       "<style scoped>\n",
       "    .dataframe tbody tr th:only-of-type {\n",
       "        vertical-align: middle;\n",
       "    }\n",
       "\n",
       "    .dataframe tbody tr th {\n",
       "        vertical-align: top;\n",
       "    }\n",
       "\n",
       "    .dataframe thead th {\n",
       "        text-align: right;\n",
       "    }\n",
       "</style>\n",
       "<table border=\"1\" class=\"dataframe\">\n",
       "  <thead>\n",
       "    <tr style=\"text-align: right;\">\n",
       "      <th></th>\n",
       "      <th>chl (ug/L)</th>\n",
       "      <th>pres (dbar)</th>\n",
       "      <th>sal (PSU)</th>\n",
       "      <th>temp (C)</th>\n",
       "    </tr>\n",
       "    <tr>\n",
       "      <th>Date</th>\n",
       "      <th></th>\n",
       "      <th></th>\n",
       "      <th></th>\n",
       "      <th></th>\n",
       "    </tr>\n",
       "  </thead>\n",
       "  <tbody>\n",
       "    <tr>\n",
       "      <th>11/10/15 1:42</th>\n",
       "      <td>22.307</td>\n",
       "      <td>3.712</td>\n",
       "      <td>33.199</td>\n",
       "      <td>19.95</td>\n",
       "    </tr>\n",
       "    <tr>\n",
       "      <th>11/10/15 1:35</th>\n",
       "      <td>22.311</td>\n",
       "      <td>3.588</td>\n",
       "      <td>33.201</td>\n",
       "      <td>19.94</td>\n",
       "    </tr>\n",
       "    <tr>\n",
       "      <th>11/10/15 1:29</th>\n",
       "      <td>22.305</td>\n",
       "      <td>3.541</td>\n",
       "      <td>33.200</td>\n",
       "      <td>19.95</td>\n",
       "    </tr>\n",
       "    <tr>\n",
       "      <th>11/10/15 1:23</th>\n",
       "      <td>22.323</td>\n",
       "      <td>3.463</td>\n",
       "      <td>33.200</td>\n",
       "      <td>19.95</td>\n",
       "    </tr>\n",
       "    <tr>\n",
       "      <th>11/10/15 1:17</th>\n",
       "      <td>22.316</td>\n",
       "      <td>3.471</td>\n",
       "      <td>33.199</td>\n",
       "      <td>19.95</td>\n",
       "    </tr>\n",
       "    <tr>\n",
       "      <th>11/10/15 1:11</th>\n",
       "      <td>22.315</td>\n",
       "      <td>3.476</td>\n",
       "      <td>33.198</td>\n",
       "      <td>19.95</td>\n",
       "    </tr>\n",
       "    <tr>\n",
       "      <th>11/10/15 1:05</th>\n",
       "      <td>22.310</td>\n",
       "      <td>3.448</td>\n",
       "      <td>33.199</td>\n",
       "      <td>19.96</td>\n",
       "    </tr>\n",
       "    <tr>\n",
       "      <th>11/10/15 0:59</th>\n",
       "      <td>22.316</td>\n",
       "      <td>3.377</td>\n",
       "      <td>33.200</td>\n",
       "      <td>19.99</td>\n",
       "    </tr>\n",
       "    <tr>\n",
       "      <th>11/10/15 0:53</th>\n",
       "      <td>22.311</td>\n",
       "      <td>3.338</td>\n",
       "      <td>33.200</td>\n",
       "      <td>20.00</td>\n",
       "    </tr>\n",
       "    <tr>\n",
       "      <th>11/10/15 0:47</th>\n",
       "      <td>22.322</td>\n",
       "      <td>3.325</td>\n",
       "      <td>33.201</td>\n",
       "      <td>20.01</td>\n",
       "    </tr>\n",
       "    <tr>\n",
       "      <th>11/10/15 0:41</th>\n",
       "      <td>22.311</td>\n",
       "      <td>3.344</td>\n",
       "      <td>33.200</td>\n",
       "      <td>20.04</td>\n",
       "    </tr>\n",
       "    <tr>\n",
       "      <th>11/10/15 0:35</th>\n",
       "      <td>22.311</td>\n",
       "      <td>3.217</td>\n",
       "      <td>33.201</td>\n",
       "      <td>20.05</td>\n",
       "    </tr>\n",
       "    <tr>\n",
       "      <th>11/10/15 0:29</th>\n",
       "      <td>22.307</td>\n",
       "      <td>3.265</td>\n",
       "      <td>33.199</td>\n",
       "      <td>20.08</td>\n",
       "    </tr>\n",
       "    <tr>\n",
       "      <th>11/10/15 0:23</th>\n",
       "      <td>22.320</td>\n",
       "      <td>3.220</td>\n",
       "      <td>33.197</td>\n",
       "      <td>20.09</td>\n",
       "    </tr>\n",
       "    <tr>\n",
       "      <th>11/10/15 0:17</th>\n",
       "      <td>22.322</td>\n",
       "      <td>3.211</td>\n",
       "      <td>33.199</td>\n",
       "      <td>20.08</td>\n",
       "    </tr>\n",
       "    <tr>\n",
       "      <th>11/10/15 0:11</th>\n",
       "      <td>22.323</td>\n",
       "      <td>3.134</td>\n",
       "      <td>33.197</td>\n",
       "      <td>20.09</td>\n",
       "    </tr>\n",
       "    <tr>\n",
       "      <th>11/10/15 0:05</th>\n",
       "      <td>22.315</td>\n",
       "      <td>3.018</td>\n",
       "      <td>33.197</td>\n",
       "      <td>20.09</td>\n",
       "    </tr>\n",
       "  </tbody>\n",
       "</table>\n",
       "</div>"
      ],
      "text/plain": [
       "               chl (ug/L)  pres (dbar)  sal (PSU)  temp (C)\n",
       "Date                                                       \n",
       "11/10/15 1:42      22.307        3.712     33.199     19.95\n",
       "11/10/15 1:35      22.311        3.588     33.201     19.94\n",
       "11/10/15 1:29      22.305        3.541     33.200     19.95\n",
       "11/10/15 1:23      22.323        3.463     33.200     19.95\n",
       "11/10/15 1:17      22.316        3.471     33.199     19.95\n",
       "11/10/15 1:11      22.315        3.476     33.198     19.95\n",
       "11/10/15 1:05      22.310        3.448     33.199     19.96\n",
       "11/10/15 0:59      22.316        3.377     33.200     19.99\n",
       "11/10/15 0:53      22.311        3.338     33.200     20.00\n",
       "11/10/15 0:47      22.322        3.325     33.201     20.01\n",
       "11/10/15 0:41      22.311        3.344     33.200     20.04\n",
       "11/10/15 0:35      22.311        3.217     33.201     20.05\n",
       "11/10/15 0:29      22.307        3.265     33.199     20.08\n",
       "11/10/15 0:23      22.320        3.220     33.197     20.09\n",
       "11/10/15 0:17      22.322        3.211     33.199     20.08\n",
       "11/10/15 0:11      22.323        3.134     33.197     20.09\n",
       "11/10/15 0:05      22.315        3.018     33.197     20.09"
      ]
     },
     "execution_count": 15,
     "metadata": {},
     "output_type": "execute_result"
    }
   ],
   "source": [
    "df.loc[date_1]"
   ]
  }
 ],
 "metadata": {
  "kernelspec": {
   "display_name": "Python 3",
   "language": "python",
   "name": "python3"
  },
  "language_info": {
   "codemirror_mode": {
    "name": "ipython",
    "version": 3
   },
   "file_extension": ".py",
   "mimetype": "text/x-python",
   "name": "python",
   "nbconvert_exporter": "python",
   "pygments_lexer": "ipython3",
   "version": "3.6.4"
  }
 },
 "nbformat": 4,
 "nbformat_minor": 2
}
