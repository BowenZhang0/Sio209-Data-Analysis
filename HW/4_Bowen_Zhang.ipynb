{
 "cells": [
  {
   "cell_type": "markdown",
   "metadata": {},
   "source": [
    "## 1.List and loops"
   ]
  },
  {
   "cell_type": "code",
   "execution_count": 1,
   "metadata": {},
   "outputs": [],
   "source": [
    "import random"
   ]
  },
  {
   "cell_type": "code",
   "execution_count": 2,
   "metadata": {},
   "outputs": [],
   "source": [
    "int_1 = [random.randint(-100,100) for x in range(10)]"
   ]
  },
  {
   "cell_type": "code",
   "execution_count": 3,
   "metadata": {},
   "outputs": [
    {
     "name": "stdout",
     "output_type": "stream",
     "text": [
      "The negative value is -9\n",
      "The negative value is -95\n",
      "The negative value is -60\n",
      "The negative value is -89\n",
      "[-9, -95, -60, -89]\n"
     ]
    }
   ],
   "source": [
    "b = []\n",
    "for i in int_1:\n",
    "    if i < 0:\n",
    "        b.append(i)\n",
    "        print('The negative value is %s'%i)\n",
    "print(b)    "
   ]
  },
  {
   "cell_type": "markdown",
   "metadata": {},
   "source": [
    "## 2.Functions, lists, and loops."
   ]
  },
  {
   "cell_type": "code",
   "execution_count": 4,
   "metadata": {},
   "outputs": [],
   "source": [
    "def nega_fide(ls,threshold):\n",
    "    b = []\n",
    "    for i in ls:\n",
    "        if i >= threshold:\n",
    "            b.append(i)\n",
    "        \n",
    "    if b == []:\n",
    "        print('no values are included dut to the threshold %s'%threshold)\n",
    "    return b"
   ]
  },
  {
   "cell_type": "code",
   "execution_count": 5,
   "metadata": {},
   "outputs": [
    {
     "name": "stdout",
     "output_type": "stream",
     "text": [
      "[-9, -95, -60, -89]\n"
     ]
    },
    {
     "data": {
      "text/plain": [
       "[-9]"
      ]
     },
     "execution_count": 5,
     "metadata": {},
     "output_type": "execute_result"
    }
   ],
   "source": [
    "print(b)\n",
    "nega_fide(b,-40)"
   ]
  },
  {
   "cell_type": "markdown",
   "metadata": {},
   "source": [
    "## 3.Dictionaries and list enumeration."
   ]
  },
  {
   "cell_type": "code",
   "execution_count": 6,
   "metadata": {},
   "outputs": [],
   "source": [
    "a = [[1,2,'a','b'],['c','d',3,4],[5,6,'e','f']]"
   ]
  },
  {
   "cell_type": "code",
   "execution_count": 7,
   "metadata": {},
   "outputs": [
    {
     "name": "stdout",
     "output_type": "stream",
     "text": [
      "{(0, 0): 1, (0, 1): 2, (1, 2): 3, (1, 3): 4, (2, 0): 5, (2, 1): 6}\n",
      "{(0, 2): 'a', (0, 3): 'b', (1, 0): 'c', (1, 1): 'd', (2, 2): 'e', (2, 3): 'f'}\n"
     ]
    }
   ],
   "source": [
    "key_1 = []\n",
    "value_1 = []\n",
    "key_2 = []\n",
    "value_2 = []\n",
    "for i in range(3):\n",
    "    for j in range(4):\n",
    "        if type(a[i][j]) == int:\n",
    "            key_1.append((i,j))\n",
    "            value_1.append(a[i][j])\n",
    "        else:\n",
    "            key_2.append((i,j))\n",
    "            value_2.append(a[i][j])\n",
    "    \n",
    "inte = dict(zip(key_1, value_1))\n",
    "string = dict(zip(key_2, value_2))   \n",
    "print(inte)\n",
    "print(string)"
   ]
  },
  {
   "cell_type": "markdown",
   "metadata": {},
   "source": [
    "## 4. List comprehension and saving files."
   ]
  },
  {
   "cell_type": "code",
   "execution_count": 8,
   "metadata": {},
   "outputs": [
    {
     "name": "stdout",
     "output_type": "stream",
     "text": [
      "['A', 'E', 'H', 'L', 'P']\n",
      "['AC', 'EG', 'HJ', 'LN', 'PR']\n"
     ]
    }
   ],
   "source": [
    "a = ['Asdfdsfb Cd','Eff Gh', 'Hi Jdk','Lmc No','P1q Rfdfdfsds']\n",
    "b = [x[0] for x in a]\n",
    "c = []\n",
    "for i in a:\n",
    "    l = len(i)\n",
    "    for j in range(l-2):\n",
    "        if i[j] == ' ':\n",
    "            c.append(i[0]+i[j+1])       \n",
    "print(b)\n",
    "print(c)"
   ]
  },
  {
   "cell_type": "code",
   "execution_count": 9,
   "metadata": {},
   "outputs": [],
   "source": [
    "d = '4_name.txt'"
   ]
  },
  {
   "cell_type": "code",
   "execution_count": 10,
   "metadata": {},
   "outputs": [],
   "source": [
    "target = open(d, 'w')\n",
    "for i in c:\n",
    "    target.write(i)\n",
    "    target.write('\\n')\n",
    "target.close()"
   ]
  },
  {
   "cell_type": "markdown",
   "metadata": {},
   "source": [
    "## 5. Reading files, sets, and saving files."
   ]
  },
  {
   "cell_type": "code",
   "execution_count": 11,
   "metadata": {},
   "outputs": [],
   "source": [
    "txt_file = 'world_series_winners.txt'"
   ]
  },
  {
   "cell_type": "code",
   "execution_count": 12,
   "metadata": {},
   "outputs": [
    {
     "data": {
      "text/plain": [
       "['Boston Americans',\n",
       " 'No World Series',\n",
       " 'New York Giants',\n",
       " 'Chicago White Sox',\n",
       " 'Chicago Cubs',\n",
       " 'Chicago Cubs',\n",
       " 'Pittsburgh Pirates',\n",
       " 'Philadelphia Athletics',\n",
       " 'Philadelphia Athletics',\n",
       " 'Boston Red Sox',\n",
       " 'Philadelphia Athletics',\n",
       " 'Boston Braves',\n",
       " 'Boston Red Sox',\n",
       " 'Boston Red Sox',\n",
       " 'Chicago White Sox',\n",
       " 'Boston Red Sox',\n",
       " 'Cincinnati Reds',\n",
       " 'Cleveland Indians',\n",
       " 'New York Giants',\n",
       " 'New York Giants',\n",
       " 'New York Yankees',\n",
       " 'Washington Senators',\n",
       " 'Pittsburgh Pirates',\n",
       " 'St. Louis Cardinals',\n",
       " 'New York Yankees',\n",
       " 'New York Yankees',\n",
       " 'Philadelphia Athletics',\n",
       " 'Philadelphia Athletics',\n",
       " 'St. Louis Cardinals',\n",
       " 'New York Yankees',\n",
       " 'New York Giants',\n",
       " 'St. Louis Cardinals',\n",
       " 'Detroit Tigers',\n",
       " 'New York Yankees',\n",
       " 'New York Yankees',\n",
       " 'New York Yankees',\n",
       " 'New York Yankees',\n",
       " 'Cincinnati Reds',\n",
       " 'New York Yankees',\n",
       " 'St. Louis Cardinals',\n",
       " 'New York Yankees',\n",
       " 'St. Louis Cardinals',\n",
       " 'Detroit Tigers',\n",
       " 'St. Louis Cardinals',\n",
       " 'New York Yankees',\n",
       " 'Cleveland Indians',\n",
       " 'New York Yankees',\n",
       " 'New York Yankees',\n",
       " 'New York Yankees',\n",
       " 'New York Yankees',\n",
       " 'New York Yankees',\n",
       " 'New York Giants',\n",
       " 'Brooklyn Dodgers',\n",
       " 'New York Yankees',\n",
       " 'Milwaukee Braves',\n",
       " 'New York Yankees',\n",
       " 'Los Angeles Dodgers',\n",
       " 'Pittsburgh Pirates',\n",
       " 'New York Yankees',\n",
       " 'New York Yankees',\n",
       " 'Los Angeles Dodgers',\n",
       " 'St. Louis Cardinals',\n",
       " 'Los Angeles Dodgers',\n",
       " 'Baltimore Orioles',\n",
       " 'St. Louis Cardinals',\n",
       " 'Detroit Tigers',\n",
       " 'New York Mets',\n",
       " 'Baltimore Orioles',\n",
       " 'Pittsburgh Pirates',\n",
       " 'Oakland Athletics',\n",
       " 'Oakland Athletics',\n",
       " 'Oakland Athletics',\n",
       " 'Cincinnati Reds',\n",
       " 'Cincinnati Reds',\n",
       " 'New York Yankees',\n",
       " 'New York Yankees',\n",
       " 'Pittsburgh Pirates',\n",
       " 'Philadelphia Phillies',\n",
       " 'Los Angeles Dodgers',\n",
       " 'St. Louis Cardinals',\n",
       " 'Baltimore Orioles',\n",
       " 'Detroit Tigers',\n",
       " 'Kansas City Royals',\n",
       " 'New York Mets',\n",
       " 'Minnesota Twins',\n",
       " 'Los Angeles Dodgers',\n",
       " 'Oakland Athletics',\n",
       " 'Cincinnati Reds',\n",
       " 'Minnesota Twins',\n",
       " 'Toronto Blue Jays',\n",
       " 'Toronto Blue Jays',\n",
       " 'No World Series',\n",
       " 'Atlanta Braves',\n",
       " 'New York Yankees',\n",
       " 'Florida Marlins',\n",
       " 'New York Yankees',\n",
       " 'New York Yankees',\n",
       " 'New York Yankees',\n",
       " 'Arizona Diamondbacks',\n",
       " 'Anaheim Angels',\n",
       " 'Florida Marlins',\n",
       " 'Boston Red Sox',\n",
       " 'Chicago White Sox',\n",
       " 'St. Louis Cardinals',\n",
       " 'Boston Red Sox',\n",
       " 'Philadelphia Phillies',\n",
       " 'New York Yankees',\n",
       " 'San Francisco Giants',\n",
       " 'St. Louis Cardinals',\n",
       " 'San Francisco Giants',\n",
       " 'Boston Red Sox',\n",
       " 'San Francisco Giants',\n",
       " 'Kansas City Royals',\n",
       " 'Chicago Cubs',\n",
       " 'Houston Astros']"
      ]
     },
     "execution_count": 12,
     "metadata": {},
     "output_type": "execute_result"
    }
   ],
   "source": [
    "with open(txt_file, 'r') as f:\n",
    "    lines = [line.rstrip() for line in f.readlines()]\n",
    "lines"
   ]
  },
  {
   "cell_type": "code",
   "execution_count": 13,
   "metadata": {},
   "outputs": [],
   "source": [
    "c = []\n",
    "for i in lines:\n",
    "    if i[:8] == 'New York':\n",
    "            c.append(i) "
   ]
  },
  {
   "cell_type": "code",
   "execution_count": 14,
   "metadata": {},
   "outputs": [
    {
     "data": {
      "text/plain": [
       "['New York Giants',\n",
       " 'New York Giants',\n",
       " 'New York Giants',\n",
       " 'New York Yankees',\n",
       " 'New York Yankees',\n",
       " 'New York Yankees',\n",
       " 'New York Yankees',\n",
       " 'New York Giants',\n",
       " 'New York Yankees',\n",
       " 'New York Yankees',\n",
       " 'New York Yankees',\n",
       " 'New York Yankees',\n",
       " 'New York Yankees',\n",
       " 'New York Yankees',\n",
       " 'New York Yankees',\n",
       " 'New York Yankees',\n",
       " 'New York Yankees',\n",
       " 'New York Yankees',\n",
       " 'New York Yankees',\n",
       " 'New York Yankees',\n",
       " 'New York Giants',\n",
       " 'New York Yankees',\n",
       " 'New York Yankees',\n",
       " 'New York Yankees',\n",
       " 'New York Yankees',\n",
       " 'New York Mets',\n",
       " 'New York Yankees',\n",
       " 'New York Yankees',\n",
       " 'New York Mets',\n",
       " 'New York Yankees',\n",
       " 'New York Yankees',\n",
       " 'New York Yankees',\n",
       " 'New York Yankees',\n",
       " 'New York Yankees']"
      ]
     },
     "execution_count": 14,
     "metadata": {},
     "output_type": "execute_result"
    }
   ],
   "source": [
    "c"
   ]
  },
  {
   "cell_type": "code",
   "execution_count": 15,
   "metadata": {},
   "outputs": [],
   "source": [
    "s = set(lines)"
   ]
  },
  {
   "cell_type": "code",
   "execution_count": 16,
   "metadata": {},
   "outputs": [
    {
     "data": {
      "text/plain": [
       "{'Anaheim Angels',\n",
       " 'Arizona Diamondbacks',\n",
       " 'Atlanta Braves',\n",
       " 'Baltimore Orioles',\n",
       " 'Boston Americans',\n",
       " 'Boston Braves',\n",
       " 'Boston Red Sox',\n",
       " 'Brooklyn Dodgers',\n",
       " 'Chicago Cubs',\n",
       " 'Chicago White Sox',\n",
       " 'Cincinnati Reds',\n",
       " 'Cleveland Indians',\n",
       " 'Detroit Tigers',\n",
       " 'Florida Marlins',\n",
       " 'Houston Astros',\n",
       " 'Kansas City Royals',\n",
       " 'Los Angeles Dodgers',\n",
       " 'Milwaukee Braves',\n",
       " 'Minnesota Twins',\n",
       " 'New York Giants',\n",
       " 'New York Mets',\n",
       " 'New York Yankees',\n",
       " 'No World Series',\n",
       " 'Oakland Athletics',\n",
       " 'Philadelphia Athletics',\n",
       " 'Philadelphia Phillies',\n",
       " 'Pittsburgh Pirates',\n",
       " 'San Francisco Giants',\n",
       " 'St. Louis Cardinals',\n",
       " 'Toronto Blue Jays',\n",
       " 'Washington Senators'}"
      ]
     },
     "execution_count": 16,
     "metadata": {},
     "output_type": "execute_result"
    }
   ],
   "source": [
    "s"
   ]
  },
  {
   "cell_type": "code",
   "execution_count": 17,
   "metadata": {},
   "outputs": [],
   "source": [
    "e = '5_winner.txt'"
   ]
  },
  {
   "cell_type": "code",
   "execution_count": 18,
   "metadata": {},
   "outputs": [],
   "source": [
    "target = open(e, 'w')\n",
    "for i in s:\n",
    "    target.write(i)\n",
    "    target.write('\\n')\n",
    "target.close()"
   ]
  },
  {
   "cell_type": "code",
   "execution_count": null,
   "metadata": {},
   "outputs": [],
   "source": []
  }
 ],
 "metadata": {
  "kernelspec": {
   "display_name": "Python 3",
   "language": "python",
   "name": "python3"
  },
  "language_info": {
   "codemirror_mode": {
    "name": "ipython",
    "version": 3
   },
   "file_extension": ".py",
   "mimetype": "text/x-python",
   "name": "python",
   "nbconvert_exporter": "python",
   "pygments_lexer": "ipython3",
   "version": "3.6.4"
  }
 },
 "nbformat": 4,
 "nbformat_minor": 2
}
