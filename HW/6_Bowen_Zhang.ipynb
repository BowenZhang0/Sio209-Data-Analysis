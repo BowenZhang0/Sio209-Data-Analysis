{
 "cells": [
  {
   "cell_type": "markdown",
   "metadata": {},
   "source": [
    "## A. Reading and summarizing"
   ]
  },
  {
   "cell_type": "code",
   "execution_count": 1,
   "metadata": {},
   "outputs": [],
   "source": [
    "import pandas as pd\n",
    "import numpy as np"
   ]
  },
  {
   "cell_type": "code",
   "execution_count": 2,
   "metadata": {},
   "outputs": [],
   "source": [
    "df = pd.read_csv('../data/emp_qiime_mapping_subset_2k.tsv', index_col = 0, header = 0, sep = '\\t')"
   ]
  },
  {
   "cell_type": "code",
   "execution_count": 3,
   "metadata": {},
   "outputs": [
    {
     "data": {
      "text/html": [
       "<div>\n",
       "<style scoped>\n",
       "    .dataframe tbody tr th:only-of-type {\n",
       "        vertical-align: middle;\n",
       "    }\n",
       "\n",
       "    .dataframe tbody tr th {\n",
       "        vertical-align: top;\n",
       "    }\n",
       "\n",
       "    .dataframe thead th {\n",
       "        text-align: right;\n",
       "    }\n",
       "</style>\n",
       "<table border=\"1\" class=\"dataframe\">\n",
       "  <thead>\n",
       "    <tr style=\"text-align: right;\">\n",
       "      <th></th>\n",
       "      <th>BarcodeSequence</th>\n",
       "      <th>LinkerPrimerSequence</th>\n",
       "      <th>Description</th>\n",
       "      <th>host_subject_id</th>\n",
       "      <th>study_id</th>\n",
       "      <th>title</th>\n",
       "      <th>principal_investigator</th>\n",
       "      <th>doi</th>\n",
       "      <th>ebi_accession</th>\n",
       "      <th>target_gene</th>\n",
       "      <th>...</th>\n",
       "      <th>adiv_shannon</th>\n",
       "      <th>adiv_faith_pd</th>\n",
       "      <th>temperature_deg_c</th>\n",
       "      <th>ph</th>\n",
       "      <th>salinity_psu</th>\n",
       "      <th>oxygen_mg_per_l</th>\n",
       "      <th>phosphate_umol_per_l</th>\n",
       "      <th>ammonium_umol_per_l</th>\n",
       "      <th>nitrate_umol_per_l</th>\n",
       "      <th>sulfate_umol_per_l</th>\n",
       "    </tr>\n",
       "    <tr>\n",
       "      <th>#SampleID</th>\n",
       "      <th></th>\n",
       "      <th></th>\n",
       "      <th></th>\n",
       "      <th></th>\n",
       "      <th></th>\n",
       "      <th></th>\n",
       "      <th></th>\n",
       "      <th></th>\n",
       "      <th></th>\n",
       "      <th></th>\n",
       "      <th></th>\n",
       "      <th></th>\n",
       "      <th></th>\n",
       "      <th></th>\n",
       "      <th></th>\n",
       "      <th></th>\n",
       "      <th></th>\n",
       "      <th></th>\n",
       "      <th></th>\n",
       "      <th></th>\n",
       "      <th></th>\n",
       "    </tr>\n",
       "  </thead>\n",
       "  <tbody>\n",
       "    <tr>\n",
       "      <th>550.L1S116.s.1.sequence</th>\n",
       "      <td>ATGCCTGAGCAG</td>\n",
       "      <td>GTGCCAGCMGCCGCGGTAA</td>\n",
       "      <td>sample_20 stool</td>\n",
       "      <td>F4</td>\n",
       "      <td>550</td>\n",
       "      <td>Moving pictures of the human microbiome</td>\n",
       "      <td>Rob Knight</td>\n",
       "      <td>10.1186/gb-2011-12-5-r50</td>\n",
       "      <td>ERP021896</td>\n",
       "      <td>16S rRNA</td>\n",
       "      <td>...</td>\n",
       "      <td>3.867414</td>\n",
       "      <td>12.457989</td>\n",
       "      <td>NaN</td>\n",
       "      <td>NaN</td>\n",
       "      <td>NaN</td>\n",
       "      <td>NaN</td>\n",
       "      <td>NaN</td>\n",
       "      <td>NaN</td>\n",
       "      <td>NaN</td>\n",
       "      <td>NaN</td>\n",
       "    </tr>\n",
       "    <tr>\n",
       "      <th>550.L1S119.s.1.sequence</th>\n",
       "      <td>CAGCACTAAGCG</td>\n",
       "      <td>GTGCCAGCMGCCGCGGTAA</td>\n",
       "      <td>sample_23 stool</td>\n",
       "      <td>F4</td>\n",
       "      <td>550</td>\n",
       "      <td>Moving pictures of the human microbiome</td>\n",
       "      <td>Rob Knight</td>\n",
       "      <td>10.1186/gb-2011-12-5-r50</td>\n",
       "      <td>ERP021896</td>\n",
       "      <td>16S rRNA</td>\n",
       "      <td>...</td>\n",
       "      <td>3.265164</td>\n",
       "      <td>10.719448</td>\n",
       "      <td>NaN</td>\n",
       "      <td>NaN</td>\n",
       "      <td>NaN</td>\n",
       "      <td>NaN</td>\n",
       "      <td>NaN</td>\n",
       "      <td>NaN</td>\n",
       "      <td>NaN</td>\n",
       "      <td>NaN</td>\n",
       "    </tr>\n",
       "    <tr>\n",
       "      <th>550.L1S164.s.1.sequence</th>\n",
       "      <td>ATGTACGGCGAC</td>\n",
       "      <td>GTGCCAGCMGCCGCGGTAA</td>\n",
       "      <td>sample_73 stool</td>\n",
       "      <td>M3</td>\n",
       "      <td>550</td>\n",
       "      <td>Moving pictures of the human microbiome</td>\n",
       "      <td>Rob Knight</td>\n",
       "      <td>10.1186/gb-2011-12-5-r50</td>\n",
       "      <td>ERP021896</td>\n",
       "      <td>16S rRNA</td>\n",
       "      <td>...</td>\n",
       "      <td>3.661124</td>\n",
       "      <td>14.214158</td>\n",
       "      <td>NaN</td>\n",
       "      <td>NaN</td>\n",
       "      <td>NaN</td>\n",
       "      <td>NaN</td>\n",
       "      <td>NaN</td>\n",
       "      <td>NaN</td>\n",
       "      <td>NaN</td>\n",
       "      <td>NaN</td>\n",
       "    </tr>\n",
       "    <tr>\n",
       "      <th>550.L1S194.s.1.sequence</th>\n",
       "      <td>CGAAGACTGCTG</td>\n",
       "      <td>GTGCCAGCMGCCGCGGTAA</td>\n",
       "      <td>sample_105 stool</td>\n",
       "      <td>M3</td>\n",
       "      <td>550</td>\n",
       "      <td>Moving pictures of the human microbiome</td>\n",
       "      <td>Rob Knight</td>\n",
       "      <td>10.1186/gb-2011-12-5-r50</td>\n",
       "      <td>ERP021896</td>\n",
       "      <td>16S rRNA</td>\n",
       "      <td>...</td>\n",
       "      <td>4.439943</td>\n",
       "      <td>12.012602</td>\n",
       "      <td>NaN</td>\n",
       "      <td>NaN</td>\n",
       "      <td>NaN</td>\n",
       "      <td>NaN</td>\n",
       "      <td>NaN</td>\n",
       "      <td>NaN</td>\n",
       "      <td>NaN</td>\n",
       "      <td>NaN</td>\n",
       "    </tr>\n",
       "    <tr>\n",
       "      <th>550.L1S20.s.1.sequence</th>\n",
       "      <td>ACGGTGAGTGTC</td>\n",
       "      <td>GTGCCAGCMGCCGCGGTAA</td>\n",
       "      <td>sample_112 stool</td>\n",
       "      <td>F4</td>\n",
       "      <td>550</td>\n",
       "      <td>Moving pictures of the human microbiome</td>\n",
       "      <td>Rob Knight</td>\n",
       "      <td>10.1186/gb-2011-12-5-r50</td>\n",
       "      <td>ERP021896</td>\n",
       "      <td>16S rRNA</td>\n",
       "      <td>...</td>\n",
       "      <td>3.327601</td>\n",
       "      <td>11.758069</td>\n",
       "      <td>NaN</td>\n",
       "      <td>NaN</td>\n",
       "      <td>NaN</td>\n",
       "      <td>NaN</td>\n",
       "      <td>NaN</td>\n",
       "      <td>NaN</td>\n",
       "      <td>NaN</td>\n",
       "      <td>NaN</td>\n",
       "    </tr>\n",
       "  </tbody>\n",
       "</table>\n",
       "<p>5 rows × 75 columns</p>\n",
       "</div>"
      ],
      "text/plain": [
       "                        BarcodeSequence LinkerPrimerSequence  \\\n",
       "#SampleID                                                      \n",
       "550.L1S116.s.1.sequence    ATGCCTGAGCAG  GTGCCAGCMGCCGCGGTAA   \n",
       "550.L1S119.s.1.sequence    CAGCACTAAGCG  GTGCCAGCMGCCGCGGTAA   \n",
       "550.L1S164.s.1.sequence    ATGTACGGCGAC  GTGCCAGCMGCCGCGGTAA   \n",
       "550.L1S194.s.1.sequence    CGAAGACTGCTG  GTGCCAGCMGCCGCGGTAA   \n",
       "550.L1S20.s.1.sequence     ACGGTGAGTGTC  GTGCCAGCMGCCGCGGTAA   \n",
       "\n",
       "                              Description host_subject_id  study_id  \\\n",
       "#SampleID                                                             \n",
       "550.L1S116.s.1.sequence   sample_20 stool              F4       550   \n",
       "550.L1S119.s.1.sequence   sample_23 stool              F4       550   \n",
       "550.L1S164.s.1.sequence   sample_73 stool              M3       550   \n",
       "550.L1S194.s.1.sequence  sample_105 stool              M3       550   \n",
       "550.L1S20.s.1.sequence   sample_112 stool              F4       550   \n",
       "\n",
       "                                                           title  \\\n",
       "#SampleID                                                          \n",
       "550.L1S116.s.1.sequence  Moving pictures of the human microbiome   \n",
       "550.L1S119.s.1.sequence  Moving pictures of the human microbiome   \n",
       "550.L1S164.s.1.sequence  Moving pictures of the human microbiome   \n",
       "550.L1S194.s.1.sequence  Moving pictures of the human microbiome   \n",
       "550.L1S20.s.1.sequence   Moving pictures of the human microbiome   \n",
       "\n",
       "                        principal_investigator                       doi  \\\n",
       "#SampleID                                                                  \n",
       "550.L1S116.s.1.sequence             Rob Knight  10.1186/gb-2011-12-5-r50   \n",
       "550.L1S119.s.1.sequence             Rob Knight  10.1186/gb-2011-12-5-r50   \n",
       "550.L1S164.s.1.sequence             Rob Knight  10.1186/gb-2011-12-5-r50   \n",
       "550.L1S194.s.1.sequence             Rob Knight  10.1186/gb-2011-12-5-r50   \n",
       "550.L1S20.s.1.sequence              Rob Knight  10.1186/gb-2011-12-5-r50   \n",
       "\n",
       "                        ebi_accession target_gene         ...          \\\n",
       "#SampleID                                                 ...           \n",
       "550.L1S116.s.1.sequence     ERP021896    16S rRNA         ...           \n",
       "550.L1S119.s.1.sequence     ERP021896    16S rRNA         ...           \n",
       "550.L1S164.s.1.sequence     ERP021896    16S rRNA         ...           \n",
       "550.L1S194.s.1.sequence     ERP021896    16S rRNA         ...           \n",
       "550.L1S20.s.1.sequence      ERP021896    16S rRNA         ...           \n",
       "\n",
       "                        adiv_shannon adiv_faith_pd temperature_deg_c  ph  \\\n",
       "#SampleID                                                                  \n",
       "550.L1S116.s.1.sequence     3.867414     12.457989               NaN NaN   \n",
       "550.L1S119.s.1.sequence     3.265164     10.719448               NaN NaN   \n",
       "550.L1S164.s.1.sequence     3.661124     14.214158               NaN NaN   \n",
       "550.L1S194.s.1.sequence     4.439943     12.012602               NaN NaN   \n",
       "550.L1S20.s.1.sequence      3.327601     11.758069               NaN NaN   \n",
       "\n",
       "                        salinity_psu oxygen_mg_per_l  phosphate_umol_per_l  \\\n",
       "#SampleID                                                                    \n",
       "550.L1S116.s.1.sequence          NaN             NaN                   NaN   \n",
       "550.L1S119.s.1.sequence          NaN             NaN                   NaN   \n",
       "550.L1S164.s.1.sequence          NaN             NaN                   NaN   \n",
       "550.L1S194.s.1.sequence          NaN             NaN                   NaN   \n",
       "550.L1S20.s.1.sequence           NaN             NaN                   NaN   \n",
       "\n",
       "                         ammonium_umol_per_l  nitrate_umol_per_l  \\\n",
       "#SampleID                                                          \n",
       "550.L1S116.s.1.sequence                  NaN                 NaN   \n",
       "550.L1S119.s.1.sequence                  NaN                 NaN   \n",
       "550.L1S164.s.1.sequence                  NaN                 NaN   \n",
       "550.L1S194.s.1.sequence                  NaN                 NaN   \n",
       "550.L1S20.s.1.sequence                   NaN                 NaN   \n",
       "\n",
       "                         sulfate_umol_per_l  \n",
       "#SampleID                                    \n",
       "550.L1S116.s.1.sequence                 NaN  \n",
       "550.L1S119.s.1.sequence                 NaN  \n",
       "550.L1S164.s.1.sequence                 NaN  \n",
       "550.L1S194.s.1.sequence                 NaN  \n",
       "550.L1S20.s.1.sequence                  NaN  \n",
       "\n",
       "[5 rows x 75 columns]"
      ]
     },
     "execution_count": 3,
     "metadata": {},
     "output_type": "execute_result"
    }
   ],
   "source": [
    "df.head()"
   ]
  },
  {
   "cell_type": "code",
   "execution_count": 4,
   "metadata": {},
   "outputs": [
    {
     "name": "stdout",
     "output_type": "stream",
     "text": [
      "2000 samples are in the dataframe and 75 metadata colums \n"
     ]
    }
   ],
   "source": [
    "total_sample = df.iloc[:,0].shape\n",
    "total_columns = df.iloc[0,:].shape\n",
    "print('%s samples are in the dataframe and %s metadata colums ' %(total_sample[0],total_columns[0]))"
   ]
  },
  {
   "cell_type": "code",
   "execution_count": 5,
   "metadata": {},
   "outputs": [
    {
     "name": "stdout",
     "output_type": "stream",
     "text": [
      "minimum ph value is -15.0, maximum ph value is 91.0\n"
     ]
    }
   ],
   "source": [
    "print('minimum ph value is %s, maximum ph value is %s'%(np.min(df['temperature_deg_c']),np.max(df['temperature_deg_c'])))"
   ]
  },
  {
   "cell_type": "code",
   "execution_count": 6,
   "metadata": {},
   "outputs": [],
   "source": [
    "mask = [df['temperature_deg_c'].isnull() == False]"
   ]
  },
  {
   "cell_type": "code",
   "execution_count": 8,
   "metadata": {},
   "outputs": [
    {
     "name": "stdout",
     "output_type": "stream",
     "text": [
      "average temperature value is 18.491087666601945, standard deviation is 16.65208618275302\n"
     ]
    }
   ],
   "source": [
    "temp = np.array(df['temperature_deg_c'])\n",
    "temp = temp[mask]\n",
    "temp_aver = np.average(temp)\n",
    "temp_std = np.std(temp)\n",
    "print('average temperature value is %s, standard deviation is %s'%(temp_aver,temp_std))"
   ]
  },
  {
   "cell_type": "markdown",
   "metadata": {},
   "source": [
    "## B. Indexing, slicing, and writing\n"
   ]
  },
  {
   "cell_type": "code",
   "execution_count": 9,
   "metadata": {},
   "outputs": [
    {
     "name": "stdout",
     "output_type": "stream",
     "text": [
      "411 values in temp\n"
     ]
    }
   ],
   "source": [
    "print('%s values in temp'%temp.shape[0])\n"
   ]
  },
  {
   "cell_type": "code",
   "execution_count": 10,
   "metadata": {},
   "outputs": [],
   "source": [
    "df_seqs = df.iloc[:,16:22]"
   ]
  },
  {
   "cell_type": "code",
   "execution_count": 11,
   "metadata": {},
   "outputs": [
    {
     "name": "stdout",
     "output_type": "stream",
     "text": [
      "mean value of column observations_deblur_90bp is 64789.0535\n"
     ]
    }
   ],
   "source": [
    "print('mean value of column observations_deblur_90bp is %s'%np.mean(df_seqs.observations_deblur_90bp))"
   ]
  },
  {
   "cell_type": "code",
   "execution_count": 12,
   "metadata": {},
   "outputs": [],
   "source": [
    "df_seqs.to_csv('df_seqs.csv')"
   ]
  },
  {
   "cell_type": "markdown",
   "metadata": {},
   "source": [
    "## C. Merging, joining, and concatenating"
   ]
  },
  {
   "cell_type": "code",
   "execution_count": 13,
   "metadata": {},
   "outputs": [],
   "source": [
    "df_seqs_head = df_seqs.iloc[:5]"
   ]
  },
  {
   "cell_type": "code",
   "execution_count": 14,
   "metadata": {},
   "outputs": [],
   "source": [
    "df_seqs_tail = df_seqs.iloc[-5:]"
   ]
  },
  {
   "cell_type": "code",
   "execution_count": 15,
   "metadata": {},
   "outputs": [],
   "source": [
    "frames = [df_seqs_head,df_seqs_tail]\n",
    "concat_df = pd.concat(frames)"
   ]
  },
  {
   "cell_type": "code",
   "execution_count": 16,
   "metadata": {},
   "outputs": [
    {
     "data": {
      "text/html": [
       "<div>\n",
       "<style scoped>\n",
       "    .dataframe tbody tr th:only-of-type {\n",
       "        vertical-align: middle;\n",
       "    }\n",
       "\n",
       "    .dataframe tbody tr th {\n",
       "        vertical-align: top;\n",
       "    }\n",
       "\n",
       "    .dataframe thead th {\n",
       "        text-align: right;\n",
       "    }\n",
       "</style>\n",
       "<table border=\"1\" class=\"dataframe\">\n",
       "  <thead>\n",
       "    <tr style=\"text-align: right;\">\n",
       "      <th></th>\n",
       "      <th>read_length_bp</th>\n",
       "      <th>sequences_split_libraries</th>\n",
       "      <th>observations_closed_ref_greengenes</th>\n",
       "      <th>observations_closed_ref_silva</th>\n",
       "      <th>observations_open_ref_greengenes</th>\n",
       "      <th>observations_deblur_90bp</th>\n",
       "    </tr>\n",
       "    <tr>\n",
       "      <th>#SampleID</th>\n",
       "      <th></th>\n",
       "      <th></th>\n",
       "      <th></th>\n",
       "      <th></th>\n",
       "      <th></th>\n",
       "      <th></th>\n",
       "    </tr>\n",
       "  </thead>\n",
       "  <tbody>\n",
       "    <tr>\n",
       "      <th>550.L1S116.s.1.sequence</th>\n",
       "      <td>132</td>\n",
       "      <td>33383</td>\n",
       "      <td>32153</td>\n",
       "      <td>32453</td>\n",
       "      <td>33337</td>\n",
       "      <td>22567</td>\n",
       "    </tr>\n",
       "    <tr>\n",
       "      <th>550.L1S119.s.1.sequence</th>\n",
       "      <td>132</td>\n",
       "      <td>40944</td>\n",
       "      <td>39472</td>\n",
       "      <td>39929</td>\n",
       "      <td>40870</td>\n",
       "      <td>27871</td>\n",
       "    </tr>\n",
       "    <tr>\n",
       "      <th>550.L1S164.s.1.sequence</th>\n",
       "      <td>132</td>\n",
       "      <td>35636</td>\n",
       "      <td>34550</td>\n",
       "      <td>34666</td>\n",
       "      <td>35599</td>\n",
       "      <td>24134</td>\n",
       "    </tr>\n",
       "    <tr>\n",
       "      <th>550.L1S194.s.1.sequence</th>\n",
       "      <td>132</td>\n",
       "      <td>46992</td>\n",
       "      <td>43925</td>\n",
       "      <td>43852</td>\n",
       "      <td>46875</td>\n",
       "      <td>30041</td>\n",
       "    </tr>\n",
       "    <tr>\n",
       "      <th>550.L1S20.s.1.sequence</th>\n",
       "      <td>132</td>\n",
       "      <td>30131</td>\n",
       "      <td>29179</td>\n",
       "      <td>29553</td>\n",
       "      <td>30094</td>\n",
       "      <td>21132</td>\n",
       "    </tr>\n",
       "    <tr>\n",
       "      <th>2382.DPOO1.C1.HA.1.630.gp.9.12.lane8.NoIndex.L008.sequences</th>\n",
       "      <td>150</td>\n",
       "      <td>125047</td>\n",
       "      <td>124344</td>\n",
       "      <td>123968</td>\n",
       "      <td>124983</td>\n",
       "      <td>90850</td>\n",
       "    </tr>\n",
       "    <tr>\n",
       "      <th>2382.DPOO1.C1.HA.1.629.leav.9.12.lane8.NoIndex.L008.sequences</th>\n",
       "      <td>150</td>\n",
       "      <td>138753</td>\n",
       "      <td>138268</td>\n",
       "      <td>138165</td>\n",
       "      <td>138702</td>\n",
       "      <td>115902</td>\n",
       "    </tr>\n",
       "    <tr>\n",
       "      <th>2382.DPOO1.C1.HA.1.628.root.9.12.lane7.NoIndex.L007.sequences</th>\n",
       "      <td>150</td>\n",
       "      <td>345657</td>\n",
       "      <td>243403</td>\n",
       "      <td>272832</td>\n",
       "      <td>342881</td>\n",
       "      <td>204706</td>\n",
       "    </tr>\n",
       "    <tr>\n",
       "      <th>2382.DPOO1.C1.HA.1.428.root.4.12.lane7.NoIndex.L007.sequences</th>\n",
       "      <td>150</td>\n",
       "      <td>89747</td>\n",
       "      <td>62332</td>\n",
       "      <td>70308</td>\n",
       "      <td>88986</td>\n",
       "      <td>53892</td>\n",
       "    </tr>\n",
       "    <tr>\n",
       "      <th>2382.DPOO1.C1.HA.1.228.root.9.11.lane1.NoIndex.L001.sequences</th>\n",
       "      <td>150</td>\n",
       "      <td>92336</td>\n",
       "      <td>66419</td>\n",
       "      <td>71897</td>\n",
       "      <td>90693</td>\n",
       "      <td>50070</td>\n",
       "    </tr>\n",
       "  </tbody>\n",
       "</table>\n",
       "</div>"
      ],
      "text/plain": [
       "                                                    read_length_bp  \\\n",
       "#SampleID                                                            \n",
       "550.L1S116.s.1.sequence                                        132   \n",
       "550.L1S119.s.1.sequence                                        132   \n",
       "550.L1S164.s.1.sequence                                        132   \n",
       "550.L1S194.s.1.sequence                                        132   \n",
       "550.L1S20.s.1.sequence                                         132   \n",
       "2382.DPOO1.C1.HA.1.630.gp.9.12.lane8.NoIndex.L0...             150   \n",
       "2382.DPOO1.C1.HA.1.629.leav.9.12.lane8.NoIndex....             150   \n",
       "2382.DPOO1.C1.HA.1.628.root.9.12.lane7.NoIndex....             150   \n",
       "2382.DPOO1.C1.HA.1.428.root.4.12.lane7.NoIndex....             150   \n",
       "2382.DPOO1.C1.HA.1.228.root.9.11.lane1.NoIndex....             150   \n",
       "\n",
       "                                                    sequences_split_libraries  \\\n",
       "#SampleID                                                                       \n",
       "550.L1S116.s.1.sequence                                                 33383   \n",
       "550.L1S119.s.1.sequence                                                 40944   \n",
       "550.L1S164.s.1.sequence                                                 35636   \n",
       "550.L1S194.s.1.sequence                                                 46992   \n",
       "550.L1S20.s.1.sequence                                                  30131   \n",
       "2382.DPOO1.C1.HA.1.630.gp.9.12.lane8.NoIndex.L0...                     125047   \n",
       "2382.DPOO1.C1.HA.1.629.leav.9.12.lane8.NoIndex....                     138753   \n",
       "2382.DPOO1.C1.HA.1.628.root.9.12.lane7.NoIndex....                     345657   \n",
       "2382.DPOO1.C1.HA.1.428.root.4.12.lane7.NoIndex....                      89747   \n",
       "2382.DPOO1.C1.HA.1.228.root.9.11.lane1.NoIndex....                      92336   \n",
       "\n",
       "                                                    observations_closed_ref_greengenes  \\\n",
       "#SampleID                                                                                \n",
       "550.L1S116.s.1.sequence                                                          32153   \n",
       "550.L1S119.s.1.sequence                                                          39472   \n",
       "550.L1S164.s.1.sequence                                                          34550   \n",
       "550.L1S194.s.1.sequence                                                          43925   \n",
       "550.L1S20.s.1.sequence                                                           29179   \n",
       "2382.DPOO1.C1.HA.1.630.gp.9.12.lane8.NoIndex.L0...                              124344   \n",
       "2382.DPOO1.C1.HA.1.629.leav.9.12.lane8.NoIndex....                              138268   \n",
       "2382.DPOO1.C1.HA.1.628.root.9.12.lane7.NoIndex....                              243403   \n",
       "2382.DPOO1.C1.HA.1.428.root.4.12.lane7.NoIndex....                               62332   \n",
       "2382.DPOO1.C1.HA.1.228.root.9.11.lane1.NoIndex....                               66419   \n",
       "\n",
       "                                                    observations_closed_ref_silva  \\\n",
       "#SampleID                                                                           \n",
       "550.L1S116.s.1.sequence                                                     32453   \n",
       "550.L1S119.s.1.sequence                                                     39929   \n",
       "550.L1S164.s.1.sequence                                                     34666   \n",
       "550.L1S194.s.1.sequence                                                     43852   \n",
       "550.L1S20.s.1.sequence                                                      29553   \n",
       "2382.DPOO1.C1.HA.1.630.gp.9.12.lane8.NoIndex.L0...                         123968   \n",
       "2382.DPOO1.C1.HA.1.629.leav.9.12.lane8.NoIndex....                         138165   \n",
       "2382.DPOO1.C1.HA.1.628.root.9.12.lane7.NoIndex....                         272832   \n",
       "2382.DPOO1.C1.HA.1.428.root.4.12.lane7.NoIndex....                          70308   \n",
       "2382.DPOO1.C1.HA.1.228.root.9.11.lane1.NoIndex....                          71897   \n",
       "\n",
       "                                                    observations_open_ref_greengenes  \\\n",
       "#SampleID                                                                              \n",
       "550.L1S116.s.1.sequence                                                        33337   \n",
       "550.L1S119.s.1.sequence                                                        40870   \n",
       "550.L1S164.s.1.sequence                                                        35599   \n",
       "550.L1S194.s.1.sequence                                                        46875   \n",
       "550.L1S20.s.1.sequence                                                         30094   \n",
       "2382.DPOO1.C1.HA.1.630.gp.9.12.lane8.NoIndex.L0...                            124983   \n",
       "2382.DPOO1.C1.HA.1.629.leav.9.12.lane8.NoIndex....                            138702   \n",
       "2382.DPOO1.C1.HA.1.628.root.9.12.lane7.NoIndex....                            342881   \n",
       "2382.DPOO1.C1.HA.1.428.root.4.12.lane7.NoIndex....                             88986   \n",
       "2382.DPOO1.C1.HA.1.228.root.9.11.lane1.NoIndex....                             90693   \n",
       "\n",
       "                                                    observations_deblur_90bp  \n",
       "#SampleID                                                                     \n",
       "550.L1S116.s.1.sequence                                                22567  \n",
       "550.L1S119.s.1.sequence                                                27871  \n",
       "550.L1S164.s.1.sequence                                                24134  \n",
       "550.L1S194.s.1.sequence                                                30041  \n",
       "550.L1S20.s.1.sequence                                                 21132  \n",
       "2382.DPOO1.C1.HA.1.630.gp.9.12.lane8.NoIndex.L0...                     90850  \n",
       "2382.DPOO1.C1.HA.1.629.leav.9.12.lane8.NoIndex....                    115902  \n",
       "2382.DPOO1.C1.HA.1.628.root.9.12.lane7.NoIndex....                    204706  \n",
       "2382.DPOO1.C1.HA.1.428.root.4.12.lane7.NoIndex....                     53892  \n",
       "2382.DPOO1.C1.HA.1.228.root.9.11.lane1.NoIndex....                     50070  "
      ]
     },
     "execution_count": 16,
     "metadata": {},
     "output_type": "execute_result"
    }
   ],
   "source": [
    "df_seqs_head.append(df_seqs_tail)"
   ]
  },
  {
   "cell_type": "code",
   "execution_count": 17,
   "metadata": {},
   "outputs": [],
   "source": [
    "df_phys = df[['ph','temperature_deg_c','salinity_psu']]\n"
   ]
  },
  {
   "cell_type": "code",
   "execution_count": 18,
   "metadata": {},
   "outputs": [],
   "source": [
    "df_empo = df.empo_3"
   ]
  },
  {
   "cell_type": "code",
   "execution_count": 19,
   "metadata": {},
   "outputs": [],
   "source": [
    "df_merged = pd.merge(df_phys,df_seqs, on = '#SampleID')"
   ]
  },
  {
   "cell_type": "code",
   "execution_count": 20,
   "metadata": {},
   "outputs": [],
   "source": [
    "df_merged = df_merged.join(df_empo)"
   ]
  },
  {
   "cell_type": "markdown",
   "metadata": {},
   "source": [
    "## D. Applying functions"
   ]
  },
  {
   "cell_type": "code",
   "execution_count": 21,
   "metadata": {},
   "outputs": [],
   "source": [
    "df_merged['temperature_deg_f'] = [i*9/5+32 for i in df_merged['temperature_deg_c']]"
   ]
  },
  {
   "cell_type": "code",
   "execution_count": 22,
   "metadata": {},
   "outputs": [],
   "source": [
    "C2F = lambda C: C*9/5+32"
   ]
  },
  {
   "cell_type": "code",
   "execution_count": 23,
   "metadata": {},
   "outputs": [],
   "source": [
    "df_merged['temperature_deg_f_2'] = df_merged['temperature_deg_c'].apply(C2F)"
   ]
  },
  {
   "cell_type": "markdown",
   "metadata": {},
   "source": [
    "## E. Sorting"
   ]
  },
  {
   "cell_type": "code",
   "execution_count": 24,
   "metadata": {},
   "outputs": [],
   "source": [
    "df.sort_values('sequences_split_libraries', axis=0, ascending=False, inplace = True)\n"
   ]
  },
  {
   "cell_type": "code",
   "execution_count": 25,
   "metadata": {},
   "outputs": [],
   "source": [
    "df.sort_index(axis=1, ascending=True, inplace=True)\n"
   ]
  },
  {
   "cell_type": "code",
   "execution_count": null,
   "metadata": {},
   "outputs": [],
   "source": []
  }
 ],
 "metadata": {
  "kernelspec": {
   "display_name": "Python 3",
   "language": "python",
   "name": "python3"
  },
  "language_info": {
   "codemirror_mode": {
    "name": "ipython",
    "version": 3
   },
   "file_extension": ".py",
   "mimetype": "text/x-python",
   "name": "python",
   "nbconvert_exporter": "python",
   "pygments_lexer": "ipython3",
   "version": "3.6.4"
  }
 },
 "nbformat": 4,
 "nbformat_minor": 2
}
