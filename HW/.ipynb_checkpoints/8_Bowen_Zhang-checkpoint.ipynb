{
 "cells": [
  {
   "cell_type": "code",
   "execution_count": 1,
   "metadata": {},
   "outputs": [],
   "source": [
    "import pandas as pd\n",
    "import numpy as np\n",
    "import matplotlib.pyplot as plt\n",
    "import seaborn as sns\n"
   ]
  },
  {
   "cell_type": "markdown",
   "metadata": {},
   "source": [
    "### A. Set up the file"
   ]
  },
  {
   "cell_type": "code",
   "execution_count": 2,
   "metadata": {},
   "outputs": [],
   "source": [
    "df = pd.read_csv('../data/la_jolla_precip_daily.csv')"
   ]
  },
  {
   "cell_type": "code",
   "execution_count": 3,
   "metadata": {},
   "outputs": [
    {
     "data": {
      "text/plain": [
       "(3514, 10)"
      ]
     },
     "execution_count": 3,
     "metadata": {},
     "output_type": "execute_result"
    }
   ],
   "source": [
    "df.shape"
   ]
  },
  {
   "cell_type": "code",
   "execution_count": 4,
   "metadata": {},
   "outputs": [],
   "source": [
    "df_datetime = pd.read_csv('../data/la_jolla_precip_daily.csv', parse_dates = [\"DATE\"])"
   ]
  },
  {
   "cell_type": "code",
   "execution_count": 5,
   "metadata": {},
   "outputs": [],
   "source": [
    "df['DATE'] = pd.to_datetime (df['DATE'])"
   ]
  },
  {
   "cell_type": "code",
   "execution_count": 6,
   "metadata": {},
   "outputs": [
    {
     "data": {
      "text/plain": [
       "Timestamp('2018-11-09 00:00:00')"
      ]
     },
     "execution_count": 6,
     "metadata": {},
     "output_type": "execute_result"
    }
   ],
   "source": [
    "np.max(df_datetime).DATE"
   ]
  },
  {
   "cell_type": "markdown",
   "metadata": {},
   "source": [
    "### B. Explore the dataset"
   ]
  },
  {
   "cell_type": "code",
   "execution_count": 7,
   "metadata": {},
   "outputs": [
    {
     "data": {
      "text/plain": [
       "STATION                    object\n",
       "NAME                       object\n",
       "LATITUDE                  float64\n",
       "LONGITUDE                 float64\n",
       "ELEVATION                 float64\n",
       "DATE               datetime64[ns]\n",
       "PRCP                      float64\n",
       "PRCP_ATTRIBUTES            object\n",
       "SNOW                      float64\n",
       "SNOW_ATTRIBUTES            object\n",
       "dtype: object"
      ]
     },
     "execution_count": 7,
     "metadata": {},
     "output_type": "execute_result"
    }
   ],
   "source": [
    "df_datetime.dtypes"
   ]
  },
  {
   "cell_type": "code",
   "execution_count": 8,
   "metadata": {},
   "outputs": [],
   "source": [
    "df_datetime.drop(['SNOW','SNOW_ATTRIBUTES'], axis=1, inplace=True)"
   ]
  },
  {
   "cell_type": "code",
   "execution_count": 9,
   "metadata": {},
   "outputs": [
    {
     "data": {
      "text/plain": [
       "STATION                    object\n",
       "NAME                       object\n",
       "LATITUDE                  float64\n",
       "LONGITUDE                 float64\n",
       "ELEVATION                 float64\n",
       "DATE               datetime64[ns]\n",
       "PRCP                      float64\n",
       "PRCP_ATTRIBUTES            object\n",
       "dtype: object"
      ]
     },
     "execution_count": 9,
     "metadata": {},
     "output_type": "execute_result"
    }
   ],
   "source": [
    "df_datetime.dtypes"
   ]
  },
  {
   "cell_type": "code",
   "execution_count": 10,
   "metadata": {},
   "outputs": [
    {
     "data": {
      "text/plain": [
       "US1CASD0030    3514\n",
       "Name: STATION, dtype: int64"
      ]
     },
     "execution_count": 10,
     "metadata": {},
     "output_type": "execute_result"
    }
   ],
   "source": [
    "df_datetime.STATION.value_counts()"
   ]
  },
  {
   "cell_type": "code",
   "execution_count": 11,
   "metadata": {},
   "outputs": [
    {
     "data": {
      "text/plain": [
       "LA JOLLA 2.1 SE, CA US    3514\n",
       "Name: NAME, dtype: int64"
      ]
     },
     "execution_count": 11,
     "metadata": {},
     "output_type": "execute_result"
    }
   ],
   "source": [
    "df_datetime.NAME.value_counts()"
   ]
  },
  {
   "cell_type": "code",
   "execution_count": 12,
   "metadata": {},
   "outputs": [
    {
     "data": {
      "text/plain": [
       "32.8257    3514\n",
       "Name: LATITUDE, dtype: int64"
      ]
     },
     "execution_count": 12,
     "metadata": {},
     "output_type": "execute_result"
    }
   ],
   "source": [
    "df_datetime.LATITUDE.value_counts()"
   ]
  },
  {
   "cell_type": "code",
   "execution_count": 13,
   "metadata": {},
   "outputs": [
    {
     "data": {
      "text/plain": [
       "-117.2501    3514\n",
       "Name: LONGITUDE, dtype: int64"
      ]
     },
     "execution_count": 13,
     "metadata": {},
     "output_type": "execute_result"
    }
   ],
   "source": [
    "df_datetime.LONGITUDE.value_counts()"
   ]
  },
  {
   "cell_type": "code",
   "execution_count": 14,
   "metadata": {},
   "outputs": [
    {
     "data": {
      "text/plain": [
       "0.00    3011\n",
       "0.01     110\n",
       "0.02      68\n",
       "0.03      38\n",
       "0.04      25\n",
       "0.07      20\n",
       "0.05      16\n",
       "0.08      15\n",
       "0.06      12\n",
       "0.12       9\n",
       "0.16       8\n",
       "0.09       8\n",
       "0.25       8\n",
       "0.13       7\n",
       "0.17       6\n",
       "0.10       6\n",
       "0.34       6\n",
       "0.63       5\n",
       "0.14       5\n",
       "0.24       5\n",
       "0.18       4\n",
       "0.20       4\n",
       "0.35       4\n",
       "0.30       4\n",
       "0.15       4\n",
       "0.27       4\n",
       "0.38       4\n",
       "0.19       3\n",
       "0.41       3\n",
       "0.11       3\n",
       "        ... \n",
       "0.76       1\n",
       "1.50       1\n",
       "2.00       1\n",
       "1.18       1\n",
       "3.35       1\n",
       "1.23       1\n",
       "0.48       1\n",
       "1.34       1\n",
       "0.55       1\n",
       "2.02       1\n",
       "0.83       1\n",
       "0.46       1\n",
       "0.87       1\n",
       "0.40       1\n",
       "1.37       1\n",
       "0.84       1\n",
       "0.51       1\n",
       "0.58       1\n",
       "0.36       1\n",
       "1.55       1\n",
       "0.81       1\n",
       "0.93       1\n",
       "0.64       1\n",
       "1.10       1\n",
       "0.54       1\n",
       "0.67       1\n",
       "2.45       1\n",
       "0.47       1\n",
       "0.26       1\n",
       "0.23       1\n",
       "Name: PRCP, Length: 89, dtype: int64"
      ]
     },
     "execution_count": 14,
     "metadata": {},
     "output_type": "execute_result"
    }
   ],
   "source": [
    "df_datetime.PRCP.value_counts()"
   ]
  },
  {
   "cell_type": "code",
   "execution_count": 15,
   "metadata": {},
   "outputs": [
    {
     "data": {
      "text/plain": [
       ",,N     3245\n",
       "T,,N     269\n",
       "Name: PRCP_ATTRIBUTES, dtype: int64"
      ]
     },
     "execution_count": 15,
     "metadata": {},
     "output_type": "execute_result"
    }
   ],
   "source": [
    "df_datetime.PRCP_ATTRIBUTES.value_counts()"
   ]
  },
  {
   "cell_type": "code",
   "execution_count": 16,
   "metadata": {},
   "outputs": [],
   "source": [
    "Partial_df = df_datetime[['STATION','NAME','LATITUDE','LONGITUDE','ELEVATION']]"
   ]
  },
  {
   "cell_type": "code",
   "execution_count": 17,
   "metadata": {},
   "outputs": [
    {
     "data": {
      "text/html": [
       "<div>\n",
       "<style scoped>\n",
       "    .dataframe tbody tr th:only-of-type {\n",
       "        vertical-align: middle;\n",
       "    }\n",
       "\n",
       "    .dataframe tbody tr th {\n",
       "        vertical-align: top;\n",
       "    }\n",
       "\n",
       "    .dataframe thead th {\n",
       "        text-align: right;\n",
       "    }\n",
       "</style>\n",
       "<table border=\"1\" class=\"dataframe\">\n",
       "  <thead>\n",
       "    <tr style=\"text-align: right;\">\n",
       "      <th></th>\n",
       "      <th>STATION</th>\n",
       "      <th>NAME</th>\n",
       "      <th>LATITUDE</th>\n",
       "      <th>LONGITUDE</th>\n",
       "      <th>ELEVATION</th>\n",
       "    </tr>\n",
       "  </thead>\n",
       "  <tbody>\n",
       "    <tr>\n",
       "      <th>0</th>\n",
       "      <td>US1CASD0030</td>\n",
       "      <td>LA JOLLA 2.1 SE, CA US</td>\n",
       "      <td>32.8257</td>\n",
       "      <td>-117.2501</td>\n",
       "      <td>149.7</td>\n",
       "    </tr>\n",
       "  </tbody>\n",
       "</table>\n",
       "</div>"
      ],
      "text/plain": [
       "       STATION                    NAME  LATITUDE  LONGITUDE  ELEVATION\n",
       "0  US1CASD0030  LA JOLLA 2.1 SE, CA US   32.8257  -117.2501      149.7"
      ]
     },
     "execution_count": 17,
     "metadata": {},
     "output_type": "execute_result"
    }
   ],
   "source": [
    "Partial_df.drop_duplicates()"
   ]
  },
  {
   "cell_type": "code",
   "execution_count": 18,
   "metadata": {},
   "outputs": [],
   "source": [
    "station_df = df_datetime.groupby('STATION')"
   ]
  },
  {
   "cell_type": "code",
   "execution_count": 19,
   "metadata": {},
   "outputs": [
    {
     "data": {
      "text/html": [
       "<div>\n",
       "<style scoped>\n",
       "    .dataframe tbody tr th:only-of-type {\n",
       "        vertical-align: middle;\n",
       "    }\n",
       "\n",
       "    .dataframe tbody tr th {\n",
       "        vertical-align: top;\n",
       "    }\n",
       "\n",
       "    .dataframe thead th {\n",
       "        text-align: right;\n",
       "    }\n",
       "</style>\n",
       "<table border=\"1\" class=\"dataframe\">\n",
       "  <thead>\n",
       "    <tr style=\"text-align: right;\">\n",
       "      <th></th>\n",
       "      <th>NAME</th>\n",
       "      <th>LATITUDE</th>\n",
       "      <th>LONGITUDE</th>\n",
       "      <th>ELEVATION</th>\n",
       "      <th>DATE</th>\n",
       "      <th>PRCP</th>\n",
       "      <th>PRCP_ATTRIBUTES</th>\n",
       "    </tr>\n",
       "    <tr>\n",
       "      <th>STATION</th>\n",
       "      <th></th>\n",
       "      <th></th>\n",
       "      <th></th>\n",
       "      <th></th>\n",
       "      <th></th>\n",
       "      <th></th>\n",
       "      <th></th>\n",
       "    </tr>\n",
       "  </thead>\n",
       "  <tbody>\n",
       "    <tr>\n",
       "      <th>US1CASD0030</th>\n",
       "      <td>3514</td>\n",
       "      <td>3514</td>\n",
       "      <td>3514</td>\n",
       "      <td>3514</td>\n",
       "      <td>3514</td>\n",
       "      <td>3514</td>\n",
       "      <td>3514</td>\n",
       "    </tr>\n",
       "  </tbody>\n",
       "</table>\n",
       "</div>"
      ],
      "text/plain": [
       "             NAME  LATITUDE  LONGITUDE  ELEVATION  DATE  PRCP  PRCP_ATTRIBUTES\n",
       "STATION                                                                       \n",
       "US1CASD0030  3514      3514       3514       3514  3514  3514             3514"
      ]
     },
     "execution_count": 19,
     "metadata": {},
     "output_type": "execute_result"
    }
   ],
   "source": [
    "station_df.count()"
   ]
  },
  {
   "cell_type": "code",
   "execution_count": 20,
   "metadata": {},
   "outputs": [
    {
     "data": {
      "text/plain": [
       "RangeIndex(start=0, stop=3514, step=1)"
      ]
     },
     "execution_count": 20,
     "metadata": {},
     "output_type": "execute_result"
    }
   ],
   "source": [
    "df_datetime.DATE.index\n"
   ]
  },
  {
   "cell_type": "code",
   "execution_count": 21,
   "metadata": {},
   "outputs": [],
   "source": [
    "df_datetime['DAY'] = [df_datetime.DATE[i].day for i in df_datetime.DATE.index ]\n",
    "df_datetime['MONTH'] = [df_datetime.DATE[i].month for i in df_datetime.DATE.index ]\n",
    "df_datetime['YEAR'] = [df_datetime.DATE[i].year for i in df_datetime.DATE.index ]\n",
    "df_datetime['DAY_OF_YEAR'] = [df_datetime.DATE[i].dayofyear for i in df_datetime.DATE.index ]"
   ]
  },
  {
   "cell_type": "markdown",
   "metadata": {},
   "source": [
    "### C. Plot precipitation versus time\n"
   ]
  },
  {
   "cell_type": "code",
   "execution_count": 22,
   "metadata": {},
   "outputs": [
    {
     "data": {
      "text/plain": [
       "[<matplotlib.lines.Line2D at 0x10ad44da0>]"
      ]
     },
     "execution_count": 22,
     "metadata": {},
     "output_type": "execute_result"
    },
    {
     "data": {
      "image/png": "[encoded data removed]",
      "text/plain": [
       "<matplotlib.figure.Figure at 0x110ab6e10>"
      ]
     },
     "metadata": {},
     "output_type": "display_data"
    }
   ],
   "source": [
    "hls_12 = sns.color_palette(\"hls\", 12)\n",
    "sns.set_palette(hls_12)\n",
    "\n",
    "plt.plot(df_datetime.DATE,df_datetime.PRCP)"
   ]
  },
  {
   "cell_type": "code",
   "execution_count": 23,
   "metadata": {},
   "outputs": [
    {
     "name": "stdout",
     "output_type": "stream",
     "text": [
      "Int64Index([0, 314, 673, 1030, 1390, 1753, 2117, 2481, 2847, 3203], dtype='int64')\n"
     ]
    }
   ],
   "source": [
    "year_index  =  df_datetime['YEAR'].drop_duplicates().index\n",
    "print(year_index)"
   ]
  },
  {
   "cell_type": "code",
   "execution_count": 24,
   "metadata": {},
   "outputs": [
    {
     "data": {
      "text/plain": [
       "<matplotlib.legend.Legend at 0x111844e80>"
      ]
     },
     "execution_count": 24,
     "metadata": {},
     "output_type": "execute_result"
    },
    {
     "data": {
      "image/png": "[encoded data removed]",
      "text/plain": [
       "<matplotlib.figure.Figure at 0x1117f1ef0>"
      ]
     },
     "metadata": {},
     "output_type": "display_data"
    }
   ],
   "source": [
    "hls_12 = sns.color_palette(\"RdBu_r\", 12)\n",
    "sns.set_palette(hls_12)\n",
    "\n",
    "fig, ax =  plt.subplots()\n",
    "for i in range (len(year_index)):\n",
    "    if i == len(year_index)-1 :\n",
    "        prcp_1 = df_datetime['PRCP'][year_index[i]:]\n",
    "        doy_1 = df_datetime['DAY_OF_YEAR'][year_index[i]:]\n",
    "        ax.plot (doy_1, prcp_1,label = '%s'%df_datetime['YEAR'].drop_duplicates()[year_index[i]])\n",
    "    else: \n",
    "        prcp = df_datetime['PRCP'][year_index[i]:year_index[i+1]-1]\n",
    "        doy = df_datetime['DAY_OF_YEAR'][year_index[i]:year_index[i+1]-1]\n",
    "        ax.plot (doy, prcp, label = '%s'%df_datetime['YEAR'].drop_duplicates()[year_index[i]])\n",
    "ax.legend()\n"
   ]
  },
  {
   "cell_type": "code",
   "execution_count": 25,
   "metadata": {},
   "outputs": [
    {
     "data": {
      "image/png": "[encoded data removed]",
      "text/plain": [
       "<matplotlib.figure.Figure at 0x11189d080>"
      ]
     },
     "metadata": {},
     "output_type": "display_data"
    }
   ],
   "source": [
    "fig, axes = plt.subplots(5, 2)\n",
    "i = 0\n",
    "axes = axes.flatten()\n",
    "for ax in axes:\n",
    "    if i == 9 :\n",
    "        prcp_1 = df_datetime['PRCP'][year_index[i]:]\n",
    "        doy_1 = df_datetime['DAY_OF_YEAR'][year_index[i]:]\n",
    "        ax.plot (doy_1, prcp_1)\n",
    "    else:\n",
    "        prcp_1 = df_datetime['PRCP'][year_index[i]:year_index[i+1]-1]\n",
    "        doy_1 = df_datetime['DAY_OF_YEAR'][year_index[i]:year_index[i+1]-1]\n",
    "        ax.plot (doy_1, prcp_1)  \n",
    "    i += 1\n"
   ]
  },
  {
   "cell_type": "markdown",
   "metadata": {},
   "source": [
    "### D. Plot distributions of the precipitation data"
   ]
  },
  {
   "cell_type": "code",
   "execution_count": 26,
   "metadata": {},
   "outputs": [
    {
     "data": {
      "text/plain": [
       "(array([3.419e+03, 5.400e+01, 2.200e+01, 1.000e+01, 5.000e+00, 1.000e+00,\n",
       "        1.000e+00, 1.000e+00, 0.000e+00, 1.000e+00]),\n",
       " array([0.   , 0.335, 0.67 , 1.005, 1.34 , 1.675, 2.01 , 2.345, 2.68 ,\n",
       "        3.015, 3.35 ]),\n",
       " <a list of 10 Patch objects>)"
      ]
     },
     "execution_count": 26,
     "metadata": {},
     "output_type": "execute_result"
    },
    {
     "data": {
      "image/png": "[encoded data removed]",
      "text/plain": [
       "<matplotlib.figure.Figure at 0x1118440f0>"
      ]
     },
     "metadata": {},
     "output_type": "display_data"
    }
   ],
   "source": [
    "fig,ax = plt.subplots()\n",
    "\n",
    "ax.hist(df_datetime.PRCP)"
   ]
  },
  {
   "cell_type": "code",
   "execution_count": 27,
   "metadata": {},
   "outputs": [
    {
     "data": {
      "text/plain": [
       "<matplotlib.axes._subplots.AxesSubplot at 0x1a1b369940>"
      ]
     },
     "execution_count": 27,
     "metadata": {},
     "output_type": "execute_result"
    },
    {
     "data": {
      "image/png": "[encoded data removed]",
      "text/plain": [
       "<matplotlib.figure.Figure at 0x1a1b45b9e8>"
      ]
     },
     "metadata": {},
     "output_type": "display_data"
    }
   ],
   "source": [
    "sns.distplot(df_datetime.PRCP, kde=False, rug=True)"
   ]
  },
  {
   "cell_type": "code",
   "execution_count": 28,
   "metadata": {},
   "outputs": [],
   "source": [
    "year_df = df_datetime.groupby('YEAR')\n",
    "month_df = df_datetime.groupby('MONTH')"
   ]
  },
  {
   "cell_type": "code",
   "execution_count": 29,
   "metadata": {},
   "outputs": [
    {
     "name": "stdout",
     "output_type": "stream",
     "text": [
      "2010 year is the rainest. The precipitation is 3.35\n"
     ]
    }
   ],
   "source": [
    "group_year = year_df.max().PRCP\n",
    "\n",
    "for i, value in enumerate(group_year):\n",
    "    if value == max(group_year):\n",
    "        print('%s year is the rainest. The precipitation is %s'%(group_year.index[i],value))"
   ]
  },
  {
   "cell_type": "code",
   "execution_count": 30,
   "metadata": {},
   "outputs": [
    {
     "name": "stdout",
     "output_type": "stream",
     "text": [
      "12th month is the rainest. The precipitation is 3.35\n"
     ]
    }
   ],
   "source": [
    "group_month = month_df.max().PRCP\n",
    "\n",
    "for i, value in enumerate(group_month):\n",
    "    if value == max(group_month):\n",
    "        print('%sth month is the rainest. The precipitation is %s'%(group_month.index[i],value))"
   ]
  },
  {
   "cell_type": "code",
   "execution_count": 31,
   "metadata": {},
   "outputs": [],
   "source": [
    "year_5 = df_datetime.groupby('YEAR',as_index=False)\n",
    "month_5 = df_datetime.groupby('MONTH',as_index=False)\n"
   ]
  },
  {
   "cell_type": "code",
   "execution_count": 32,
   "metadata": {},
   "outputs": [
    {
     "data": {
      "text/plain": [
       "<matplotlib.axes._subplots.AxesSubplot at 0x1a1b45bda0>"
      ]
     },
     "execution_count": 32,
     "metadata": {},
     "output_type": "execute_result"
    },
    {
     "data": {
      "image/png": "[encoded data removed]",
      "text/plain": [
       "<matplotlib.figure.Figure at 0x1a1b773b38>"
      ]
     },
     "metadata": {},
     "output_type": "display_data"
    }
   ],
   "source": [
    "sns.boxplot(x = 'YEAR', y ='PRCP', data = year_5.mean() )"
   ]
  },
  {
   "cell_type": "code",
   "execution_count": 33,
   "metadata": {},
   "outputs": [
    {
     "data": {
      "text/plain": [
       "<matplotlib.axes._subplots.AxesSubplot at 0x1a1b8fc2e8>"
      ]
     },
     "execution_count": 33,
     "metadata": {},
     "output_type": "execute_result"
    },
    {
     "data": {
      "image/png": "[encoded data removed]",
      "text/plain": [
       "<matplotlib.figure.Figure at 0x1a1b8c6e10>"
      ]
     },
     "metadata": {},
     "output_type": "display_data"
    }
   ],
   "source": [
    "sns.boxplot(x = 'MONTH', y ='PRCP', data = month_5.mean() )"
   ]
  },
  {
   "cell_type": "markdown",
   "metadata": {},
   "source": [
    "### E. Pivoting, stacking and unstacking"
   ]
  },
  {
   "cell_type": "code",
   "execution_count": 34,
   "metadata": {},
   "outputs": [
    {
     "data": {
      "text/html": [
       "<div>\n",
       "<style scoped>\n",
       "    .dataframe tbody tr th:only-of-type {\n",
       "        vertical-align: middle;\n",
       "    }\n",
       "\n",
       "    .dataframe tbody tr th {\n",
       "        vertical-align: top;\n",
       "    }\n",
       "\n",
       "    .dataframe thead th {\n",
       "        text-align: right;\n",
       "    }\n",
       "</style>\n",
       "<table border=\"1\" class=\"dataframe\">\n",
       "  <thead>\n",
       "    <tr style=\"text-align: right;\">\n",
       "      <th>MONTH</th>\n",
       "      <th>1</th>\n",
       "      <th>2</th>\n",
       "      <th>3</th>\n",
       "      <th>4</th>\n",
       "      <th>5</th>\n",
       "      <th>6</th>\n",
       "      <th>7</th>\n",
       "      <th>8</th>\n",
       "      <th>9</th>\n",
       "      <th>10</th>\n",
       "      <th>11</th>\n",
       "      <th>12</th>\n",
       "    </tr>\n",
       "    <tr>\n",
       "      <th>YEAR</th>\n",
       "      <th></th>\n",
       "      <th></th>\n",
       "      <th></th>\n",
       "      <th></th>\n",
       "      <th></th>\n",
       "      <th></th>\n",
       "      <th></th>\n",
       "      <th></th>\n",
       "      <th></th>\n",
       "      <th></th>\n",
       "      <th></th>\n",
       "      <th></th>\n",
       "    </tr>\n",
       "  </thead>\n",
       "  <tbody>\n",
       "    <tr>\n",
       "      <th>2009</th>\n",
       "      <td>NaN</td>\n",
       "      <td>0.000000</td>\n",
       "      <td>0.007742</td>\n",
       "      <td>0.003000</td>\n",
       "      <td>0.006774</td>\n",
       "      <td>0.003704</td>\n",
       "      <td>0.000000</td>\n",
       "      <td>0.000323</td>\n",
       "      <td>0.001333</td>\n",
       "      <td>0.001290</td>\n",
       "      <td>0.011333</td>\n",
       "      <td>0.101613</td>\n",
       "    </tr>\n",
       "    <tr>\n",
       "      <th>2010</th>\n",
       "      <td>0.169677</td>\n",
       "      <td>0.088462</td>\n",
       "      <td>0.020000</td>\n",
       "      <td>0.064333</td>\n",
       "      <td>0.001935</td>\n",
       "      <td>0.002667</td>\n",
       "      <td>0.003548</td>\n",
       "      <td>0.000000</td>\n",
       "      <td>0.001923</td>\n",
       "      <td>0.080968</td>\n",
       "      <td>0.032333</td>\n",
       "      <td>0.214516</td>\n",
       "    </tr>\n",
       "    <tr>\n",
       "      <th>2011</th>\n",
       "      <td>0.027742</td>\n",
       "      <td>0.061538</td>\n",
       "      <td>0.022414</td>\n",
       "      <td>0.010000</td>\n",
       "      <td>0.025517</td>\n",
       "      <td>0.003000</td>\n",
       "      <td>0.000000</td>\n",
       "      <td>0.000000</td>\n",
       "      <td>0.001429</td>\n",
       "      <td>0.018065</td>\n",
       "      <td>0.108000</td>\n",
       "      <td>0.039032</td>\n",
       "    </tr>\n",
       "    <tr>\n",
       "      <th>2012</th>\n",
       "      <td>0.018065</td>\n",
       "      <td>0.057778</td>\n",
       "      <td>0.041613</td>\n",
       "      <td>0.053333</td>\n",
       "      <td>0.000645</td>\n",
       "      <td>0.001667</td>\n",
       "      <td>0.000323</td>\n",
       "      <td>0.001613</td>\n",
       "      <td>0.001333</td>\n",
       "      <td>0.042258</td>\n",
       "      <td>0.010000</td>\n",
       "      <td>0.121852</td>\n",
       "    </tr>\n",
       "    <tr>\n",
       "      <th>2013</th>\n",
       "      <td>0.047419</td>\n",
       "      <td>0.017143</td>\n",
       "      <td>0.038065</td>\n",
       "      <td>0.006000</td>\n",
       "      <td>0.016452</td>\n",
       "      <td>0.000333</td>\n",
       "      <td>0.001290</td>\n",
       "      <td>0.000323</td>\n",
       "      <td>0.000000</td>\n",
       "      <td>0.011613</td>\n",
       "      <td>0.002857</td>\n",
       "      <td>0.010000</td>\n",
       "    </tr>\n",
       "    <tr>\n",
       "      <th>2014</th>\n",
       "      <td>0.002258</td>\n",
       "      <td>0.037500</td>\n",
       "      <td>0.059032</td>\n",
       "      <td>0.018000</td>\n",
       "      <td>0.000000</td>\n",
       "      <td>0.000000</td>\n",
       "      <td>0.011290</td>\n",
       "      <td>0.006452</td>\n",
       "      <td>0.018000</td>\n",
       "      <td>0.000000</td>\n",
       "      <td>0.019333</td>\n",
       "      <td>0.105333</td>\n",
       "    </tr>\n",
       "    <tr>\n",
       "      <th>2015</th>\n",
       "      <td>0.016667</td>\n",
       "      <td>0.013571</td>\n",
       "      <td>0.032903</td>\n",
       "      <td>0.005333</td>\n",
       "      <td>0.040645</td>\n",
       "      <td>0.002000</td>\n",
       "      <td>0.044194</td>\n",
       "      <td>0.001290</td>\n",
       "      <td>0.035667</td>\n",
       "      <td>0.033226</td>\n",
       "      <td>0.067333</td>\n",
       "      <td>0.038710</td>\n",
       "    </tr>\n",
       "    <tr>\n",
       "      <th>2016</th>\n",
       "      <td>0.107419</td>\n",
       "      <td>0.015517</td>\n",
       "      <td>0.035161</td>\n",
       "      <td>0.018333</td>\n",
       "      <td>0.033226</td>\n",
       "      <td>0.000667</td>\n",
       "      <td>0.000000</td>\n",
       "      <td>0.000968</td>\n",
       "      <td>0.015667</td>\n",
       "      <td>0.004839</td>\n",
       "      <td>0.042667</td>\n",
       "      <td>0.150000</td>\n",
       "    </tr>\n",
       "    <tr>\n",
       "      <th>2017</th>\n",
       "      <td>0.160000</td>\n",
       "      <td>0.216429</td>\n",
       "      <td>0.008065</td>\n",
       "      <td>0.004667</td>\n",
       "      <td>0.036129</td>\n",
       "      <td>0.009667</td>\n",
       "      <td>0.000323</td>\n",
       "      <td>0.000968</td>\n",
       "      <td>0.000476</td>\n",
       "      <td>0.000000</td>\n",
       "      <td>0.005667</td>\n",
       "      <td>0.004516</td>\n",
       "    </tr>\n",
       "    <tr>\n",
       "      <th>2018</th>\n",
       "      <td>0.073548</td>\n",
       "      <td>0.013929</td>\n",
       "      <td>0.050968</td>\n",
       "      <td>0.002667</td>\n",
       "      <td>0.010645</td>\n",
       "      <td>0.000333</td>\n",
       "      <td>0.000000</td>\n",
       "      <td>0.000000</td>\n",
       "      <td>0.000000</td>\n",
       "      <td>0.006207</td>\n",
       "      <td>0.000000</td>\n",
       "      <td>NaN</td>\n",
       "    </tr>\n",
       "  </tbody>\n",
       "</table>\n",
       "</div>"
      ],
      "text/plain": [
       "MONTH        1         2         3         4         5         6         7   \\\n",
       "YEAR                                                                          \n",
       "2009        NaN  0.000000  0.007742  0.003000  0.006774  0.003704  0.000000   \n",
       "2010   0.169677  0.088462  0.020000  0.064333  0.001935  0.002667  0.003548   \n",
       "2011   0.027742  0.061538  0.022414  0.010000  0.025517  0.003000  0.000000   \n",
       "2012   0.018065  0.057778  0.041613  0.053333  0.000645  0.001667  0.000323   \n",
       "2013   0.047419  0.017143  0.038065  0.006000  0.016452  0.000333  0.001290   \n",
       "2014   0.002258  0.037500  0.059032  0.018000  0.000000  0.000000  0.011290   \n",
       "2015   0.016667  0.013571  0.032903  0.005333  0.040645  0.002000  0.044194   \n",
       "2016   0.107419  0.015517  0.035161  0.018333  0.033226  0.000667  0.000000   \n",
       "2017   0.160000  0.216429  0.008065  0.004667  0.036129  0.009667  0.000323   \n",
       "2018   0.073548  0.013929  0.050968  0.002667  0.010645  0.000333  0.000000   \n",
       "\n",
       "MONTH        8         9         10        11        12  \n",
       "YEAR                                                     \n",
       "2009   0.000323  0.001333  0.001290  0.011333  0.101613  \n",
       "2010   0.000000  0.001923  0.080968  0.032333  0.214516  \n",
       "2011   0.000000  0.001429  0.018065  0.108000  0.039032  \n",
       "2012   0.001613  0.001333  0.042258  0.010000  0.121852  \n",
       "2013   0.000323  0.000000  0.011613  0.002857  0.010000  \n",
       "2014   0.006452  0.018000  0.000000  0.019333  0.105333  \n",
       "2015   0.001290  0.035667  0.033226  0.067333  0.038710  \n",
       "2016   0.000968  0.015667  0.004839  0.042667  0.150000  \n",
       "2017   0.000968  0.000476  0.000000  0.005667  0.004516  \n",
       "2018   0.000000  0.000000  0.006207  0.000000       NaN  "
      ]
     },
     "execution_count": 34,
     "metadata": {},
     "output_type": "execute_result"
    }
   ],
   "source": [
    "table = pd.pivot_table(df_datetime, values='PRCP', index=['YEAR'],\n",
    "                       columns=['MONTH'], aggfunc=np.mean)\n",
    "table"
   ]
  },
  {
   "cell_type": "code",
   "execution_count": 35,
   "metadata": {},
   "outputs": [
    {
     "data": {
      "image/png": "[encoded data removed]",
      "text/plain": [
       "<matplotlib.figure.Figure at 0x1a1b4a7278>"
      ]
     },
     "metadata": {},
     "output_type": "display_data"
    }
   ],
   "source": [
    "x = sns.heatmap(table,cmap=\"YlGnBu\")"
   ]
  },
  {
   "cell_type": "code",
   "execution_count": 36,
   "metadata": {},
   "outputs": [
    {
     "data": {
      "text/plain": [
       "YEAR  MONTH\n",
       "2009  2        0.000000\n",
       "      3        0.007742\n",
       "      4        0.003000\n",
       "      5        0.006774\n",
       "      6        0.003704\n",
       "      7        0.000000\n",
       "      8        0.000323\n",
       "      9        0.001333\n",
       "      10       0.001290\n",
       "      11       0.011333\n",
       "      12       0.101613\n",
       "2010  1        0.169677\n",
       "      2        0.088462\n",
       "      3        0.020000\n",
       "      4        0.064333\n",
       "      5        0.001935\n",
       "      6        0.002667\n",
       "      7        0.003548\n",
       "      8        0.000000\n",
       "      9        0.001923\n",
       "      10       0.080968\n",
       "      11       0.032333\n",
       "      12       0.214516\n",
       "2011  1        0.027742\n",
       "      2        0.061538\n",
       "      3        0.022414\n",
       "      4        0.010000\n",
       "      5        0.025517\n",
       "      6        0.003000\n",
       "      7        0.000000\n",
       "                 ...   \n",
       "2016  6        0.000667\n",
       "      7        0.000000\n",
       "      8        0.000968\n",
       "      9        0.015667\n",
       "      10       0.004839\n",
       "      11       0.042667\n",
       "      12       0.150000\n",
       "2017  1        0.160000\n",
       "      2        0.216429\n",
       "      3        0.008065\n",
       "      4        0.004667\n",
       "      5        0.036129\n",
       "      6        0.009667\n",
       "      7        0.000323\n",
       "      8        0.000968\n",
       "      9        0.000476\n",
       "      10       0.000000\n",
       "      11       0.005667\n",
       "      12       0.004516\n",
       "2018  1        0.073548\n",
       "      2        0.013929\n",
       "      3        0.050968\n",
       "      4        0.002667\n",
       "      5        0.010645\n",
       "      6        0.000333\n",
       "      7        0.000000\n",
       "      8        0.000000\n",
       "      9        0.000000\n",
       "      10       0.006207\n",
       "      11       0.000000\n",
       "Length: 118, dtype: float64"
      ]
     },
     "execution_count": 36,
     "metadata": {},
     "output_type": "execute_result"
    }
   ],
   "source": [
    "table_stack = table.stack()\n",
    "table_stack"
   ]
  },
  {
   "cell_type": "code",
   "execution_count": 37,
   "metadata": {},
   "outputs": [
    {
     "name": "stdout",
     "output_type": "stream",
     "text": [
      "2nd month has the most precipitation in 2017 \n"
     ]
    }
   ],
   "source": [
    "print('%snd month has the most precipitation in 2017 '%table_stack[2017].idxmax())"
   ]
  },
  {
   "cell_type": "code",
   "execution_count": 38,
   "metadata": {},
   "outputs": [
    {
     "name": "stdout",
     "output_type": "stream",
     "text": [
      "96 months in the dataset\n"
     ]
    }
   ],
   "source": [
    "print('%s months in the dataset'%table.describe().count().sum())"
   ]
  },
  {
   "cell_type": "code",
   "execution_count": 39,
   "metadata": {},
   "outputs": [
    {
     "name": "stdout",
     "output_type": "stream",
     "text": [
      "the median month value in this time period is 0.037242063492063486\n"
     ]
    }
   ],
   "source": [
    "print('the median month value in this time period is %s'%table_stack[2017].mean())"
   ]
  },
  {
   "cell_type": "code",
   "execution_count": 40,
   "metadata": {},
   "outputs": [
    {
     "data": {
      "text/plain": [
       "MONTH  YEAR\n",
       "1      2009         NaN\n",
       "       2010    0.169677\n",
       "       2011    0.027742\n",
       "       2012    0.018065\n",
       "       2013    0.047419\n",
       "       2014    0.002258\n",
       "       2015    0.016667\n",
       "       2016    0.107419\n",
       "       2017    0.160000\n",
       "       2018    0.073548\n",
       "2      2009    0.000000\n",
       "       2010    0.088462\n",
       "       2011    0.061538\n",
       "       2012    0.057778\n",
       "       2013    0.017143\n",
       "       2014    0.037500\n",
       "       2015    0.013571\n",
       "       2016    0.015517\n",
       "       2017    0.216429\n",
       "       2018    0.013929\n",
       "3      2009    0.007742\n",
       "       2010    0.020000\n",
       "       2011    0.022414\n",
       "       2012    0.041613\n",
       "       2013    0.038065\n",
       "       2014    0.059032\n",
       "       2015    0.032903\n",
       "       2016    0.035161\n",
       "       2017    0.008065\n",
       "       2018    0.050968\n",
       "                 ...   \n",
       "10     2009    0.001290\n",
       "       2010    0.080968\n",
       "       2011    0.018065\n",
       "       2012    0.042258\n",
       "       2013    0.011613\n",
       "       2014    0.000000\n",
       "       2015    0.033226\n",
       "       2016    0.004839\n",
       "       2017    0.000000\n",
       "       2018    0.006207\n",
       "11     2009    0.011333\n",
       "       2010    0.032333\n",
       "       2011    0.108000\n",
       "       2012    0.010000\n",
       "       2013    0.002857\n",
       "       2014    0.019333\n",
       "       2015    0.067333\n",
       "       2016    0.042667\n",
       "       2017    0.005667\n",
       "       2018    0.000000\n",
       "12     2009    0.101613\n",
       "       2010    0.214516\n",
       "       2011    0.039032\n",
       "       2012    0.121852\n",
       "       2013    0.010000\n",
       "       2014    0.105333\n",
       "       2015    0.038710\n",
       "       2016    0.150000\n",
       "       2017    0.004516\n",
       "       2018         NaN\n",
       "Length: 120, dtype: float64"
      ]
     },
     "execution_count": 40,
     "metadata": {},
     "output_type": "execute_result"
    }
   ],
   "source": [
    "table_unstack = table.unstack()\n",
    "table_unstack"
   ]
  },
  {
   "cell_type": "code",
   "execution_count": 41,
   "metadata": {},
   "outputs": [
    {
     "name": "stdout",
     "output_type": "stream",
     "text": [
      "In 2010, it has the wettest Dec.\n"
     ]
    }
   ],
   "source": [
    "print('In %s, it has the wettest Dec.'%table_unstack[12].idxmax())"
   ]
  }
 ],
 "metadata": {
  "kernelspec": {
   "display_name": "Python 3",
   "language": "python",
   "name": "python3"
  },
  "language_info": {
   "codemirror_mode": {
    "name": "ipython",
    "version": 3
   },
   "file_extension": ".py",
   "mimetype": "text/x-python",
   "name": "python",
   "nbconvert_exporter": "python",
   "pygments_lexer": "ipython3",
   "version": "3.6.4"
  }
 },
 "nbformat": 4,
 "nbformat_minor": 2
}
